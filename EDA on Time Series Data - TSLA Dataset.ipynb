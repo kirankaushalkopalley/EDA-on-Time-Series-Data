{
 "cells": [
  {
   "cell_type": "markdown",
   "id": "91dd09ad",
   "metadata": {},
   "source": [
    "# Time Series EDA\n",
    "\n",
    "* __Author:__ Kiran Kaushal Kopalley\n",
    "* __Date:__ 02/19/2024"
   ]
  },
  {
   "cell_type": "markdown",
   "id": "2c7e027d-1e51-4385-9052-39211f1301b0",
   "metadata": {},
   "source": [
    "__Installing Pandas-DataReader library__"
   ]
  },
  {
   "cell_type": "code",
   "execution_count": 1,
   "id": "70d30d19",
   "metadata": {},
   "outputs": [
    {
     "name": "stdout",
     "output_type": "stream",
     "text": [
      "Collecting pandas-datareader\n",
      "  Downloading pandas_datareader-0.10.0-py3-none-any.whl (109 kB)\n",
      "     ---------------------------------------- 0.0/109.5 kB ? eta -:--:--\n",
      "     ---------------------- ----------------- 61.4/109.5 kB ? eta -:--:--\n",
      "     -------------------------------------- 109.5/109.5 kB 1.6 MB/s eta 0:00:00\n",
      "Collecting pandas>=0.23\n",
      "  Downloading pandas-2.0.3-cp38-cp38-win_amd64.whl (10.8 MB)\n",
      "     ---------------------------------------- 0.0/10.8 MB ? eta -:--:--\n",
      "     ---------------------------------------- 0.1/10.8 MB 1.7 MB/s eta 0:00:07\n",
      "     ---------------------------------------- 0.1/10.8 MB 1.2 MB/s eta 0:00:09\n",
      "      --------------------------------------- 0.2/10.8 MB 1.3 MB/s eta 0:00:09\n",
      "      --------------------------------------- 0.2/10.8 MB 1.1 MB/s eta 0:00:10\n",
      "     - -------------------------------------- 0.3/10.8 MB 1.2 MB/s eta 0:00:09\n",
      "     - -------------------------------------- 0.3/10.8 MB 1.2 MB/s eta 0:00:09\n",
      "     - -------------------------------------- 0.4/10.8 MB 1.3 MB/s eta 0:00:09\n",
      "     - -------------------------------------- 0.5/10.8 MB 1.3 MB/s eta 0:00:08\n",
      "     -- ------------------------------------- 0.6/10.8 MB 1.3 MB/s eta 0:00:08\n",
      "     -- ------------------------------------- 0.7/10.8 MB 1.4 MB/s eta 0:00:08\n",
      "     -- ------------------------------------- 0.7/10.8 MB 1.4 MB/s eta 0:00:08\n",
      "     -- ------------------------------------- 0.8/10.8 MB 1.4 MB/s eta 0:00:07\n",
      "     --- ------------------------------------ 0.9/10.8 MB 1.5 MB/s eta 0:00:07\n",
      "     --- ------------------------------------ 1.0/10.8 MB 1.5 MB/s eta 0:00:07\n",
      "     --- ------------------------------------ 1.1/10.8 MB 1.5 MB/s eta 0:00:07\n",
      "     ---- ----------------------------------- 1.1/10.8 MB 1.5 MB/s eta 0:00:07\n",
      "     ---- ----------------------------------- 1.2/10.8 MB 1.5 MB/s eta 0:00:07\n",
      "     ---- ----------------------------------- 1.3/10.8 MB 1.6 MB/s eta 0:00:07\n",
      "     ----- ---------------------------------- 1.4/10.8 MB 1.6 MB/s eta 0:00:06\n",
      "     ----- ---------------------------------- 1.5/10.8 MB 1.6 MB/s eta 0:00:06\n",
      "     ------ --------------------------------- 1.6/10.8 MB 1.6 MB/s eta 0:00:06\n",
      "     ------ --------------------------------- 1.7/10.8 MB 1.7 MB/s eta 0:00:06\n",
      "     ------ --------------------------------- 1.8/10.8 MB 1.7 MB/s eta 0:00:06\n",
      "     ------- -------------------------------- 1.9/10.8 MB 1.7 MB/s eta 0:00:06\n",
      "     ------- -------------------------------- 2.0/10.8 MB 1.7 MB/s eta 0:00:06\n",
      "     ------- -------------------------------- 2.1/10.8 MB 1.7 MB/s eta 0:00:06\n",
      "     -------- ------------------------------- 2.2/10.8 MB 1.7 MB/s eta 0:00:05\n",
      "     -------- ------------------------------- 2.3/10.8 MB 1.7 MB/s eta 0:00:05\n",
      "     -------- ------------------------------- 2.4/10.8 MB 1.7 MB/s eta 0:00:05\n",
      "     --------- ------------------------------ 2.5/10.8 MB 1.8 MB/s eta 0:00:05\n",
      "     --------- ------------------------------ 2.6/10.8 MB 1.8 MB/s eta 0:00:05\n",
      "     ---------- ----------------------------- 2.7/10.8 MB 1.8 MB/s eta 0:00:05\n",
      "     ---------- ----------------------------- 2.8/10.8 MB 1.8 MB/s eta 0:00:05\n",
      "     ---------- ----------------------------- 2.9/10.8 MB 1.8 MB/s eta 0:00:05\n",
      "     ----------- ---------------------------- 3.0/10.8 MB 1.8 MB/s eta 0:00:05\n",
      "     ----------- ---------------------------- 3.1/10.8 MB 1.8 MB/s eta 0:00:05\n",
      "     ------------ --------------------------- 3.3/10.8 MB 1.9 MB/s eta 0:00:05\n",
      "     ------------ --------------------------- 3.4/10.8 MB 1.9 MB/s eta 0:00:04\n",
      "     ------------- -------------------------- 3.5/10.8 MB 1.9 MB/s eta 0:00:04\n",
      "     ------------- -------------------------- 3.7/10.8 MB 1.9 MB/s eta 0:00:04\n",
      "     -------------- ------------------------- 3.8/10.8 MB 2.0 MB/s eta 0:00:04\n",
      "     -------------- ------------------------- 4.0/10.8 MB 2.0 MB/s eta 0:00:04\n",
      "     --------------- ------------------------ 4.1/10.8 MB 2.0 MB/s eta 0:00:04\n",
      "     --------------- ------------------------ 4.2/10.8 MB 2.0 MB/s eta 0:00:04\n",
      "     ---------------- ----------------------- 4.4/10.8 MB 2.0 MB/s eta 0:00:04\n",
      "     ---------------- ----------------------- 4.5/10.8 MB 2.0 MB/s eta 0:00:04\n",
      "     ----------------- ---------------------- 4.6/10.8 MB 2.0 MB/s eta 0:00:04\n",
      "     ----------------- ---------------------- 4.7/10.8 MB 2.0 MB/s eta 0:00:03\n",
      "     ------------------ --------------------- 4.9/10.8 MB 2.1 MB/s eta 0:00:03\n",
      "     ------------------ --------------------- 5.0/10.8 MB 2.1 MB/s eta 0:00:03\n",
      "     ------------------- -------------------- 5.2/10.8 MB 2.1 MB/s eta 0:00:03\n",
      "     ------------------- -------------------- 5.3/10.8 MB 2.1 MB/s eta 0:00:03\n",
      "     -------------------- ------------------- 5.5/10.8 MB 2.2 MB/s eta 0:00:03\n",
      "     -------------------- ------------------- 5.6/10.8 MB 2.2 MB/s eta 0:00:03\n",
      "     --------------------- ------------------ 5.8/10.8 MB 2.2 MB/s eta 0:00:03\n",
      "     ---------------------- ----------------- 5.9/10.8 MB 2.2 MB/s eta 0:00:03\n",
      "     ---------------------- ----------------- 6.1/10.8 MB 2.2 MB/s eta 0:00:03\n",
      "     ----------------------- ---------------- 6.2/10.8 MB 2.2 MB/s eta 0:00:03\n",
      "     ----------------------- ---------------- 6.4/10.8 MB 2.3 MB/s eta 0:00:02\n",
      "     ------------------------ --------------- 6.5/10.8 MB 2.3 MB/s eta 0:00:02\n",
      "     ------------------------ --------------- 6.7/10.8 MB 2.3 MB/s eta 0:00:02\n",
      "     ------------------------- -------------- 6.9/10.8 MB 2.3 MB/s eta 0:00:02\n",
      "     ------------------------- -------------- 7.0/10.8 MB 2.3 MB/s eta 0:00:02\n",
      "     -------------------------- ------------- 7.1/10.8 MB 2.3 MB/s eta 0:00:02\n",
      "     --------------------------- ------------ 7.3/10.8 MB 2.4 MB/s eta 0:00:02\n",
      "     --------------------------- ------------ 7.5/10.8 MB 2.4 MB/s eta 0:00:02\n",
      "     ---------------------------- ----------- 7.6/10.8 MB 2.4 MB/s eta 0:00:02\n",
      "     ----------------------------- ---------- 7.8/10.8 MB 2.4 MB/s eta 0:00:02\n",
      "     ----------------------------- ---------- 8.0/10.8 MB 2.4 MB/s eta 0:00:02\n",
      "     ------------------------------ --------- 8.2/10.8 MB 2.4 MB/s eta 0:00:02\n",
      "     ------------------------------ --------- 8.3/10.8 MB 2.5 MB/s eta 0:00:01\n",
      "     ------------------------------- -------- 8.5/10.8 MB 2.5 MB/s eta 0:00:01\n",
      "     -------------------------------- ------- 8.7/10.8 MB 2.5 MB/s eta 0:00:01\n",
      "     -------------------------------- ------- 8.8/10.8 MB 2.5 MB/s eta 0:00:01\n",
      "     -------------------------------- ------- 8.9/10.8 MB 2.5 MB/s eta 0:00:01\n",
      "     --------------------------------- ------ 9.0/10.8 MB 2.5 MB/s eta 0:00:01\n",
      "     ---------------------------------- ----- 9.2/10.8 MB 2.5 MB/s eta 0:00:01\n",
      "     ---------------------------------- ----- 9.4/10.8 MB 2.5 MB/s eta 0:00:01\n",
      "     ----------------------------------- ---- 9.6/10.8 MB 2.5 MB/s eta 0:00:01\n",
      "     ------------------------------------ --- 9.8/10.8 MB 2.6 MB/s eta 0:00:01\n",
      "     ------------------------------------- -- 10.0/10.8 MB 2.6 MB/s eta 0:00:01\n",
      "     ------------------------------------- -- 10.2/10.8 MB 2.6 MB/s eta 0:00:01\n",
      "     -------------------------------------- - 10.4/10.8 MB 2.7 MB/s eta 0:00:01\n",
      "     ---------------------------------------  10.6/10.8 MB 2.7 MB/s eta 0:00:01\n",
      "     ---------------------------------------  10.7/10.8 MB 2.8 MB/s eta 0:00:01\n",
      "     ---------------------------------------  10.8/10.8 MB 2.8 MB/s eta 0:00:01\n",
      "     ---------------------------------------- 10.8/10.8 MB 2.7 MB/s eta 0:00:00\n",
      "Requirement already satisfied: requests>=2.19.0 in c:\\users\\kkopalley\\onedrive - primary residential mortgage\\documents\\ml project\\venv\\lib\\site-packages (from pandas-datareader) (2.31.0)\n",
      "Collecting lxml\n",
      "  Downloading lxml-5.1.0-cp38-cp38-win_amd64.whl (3.9 MB)\n",
      "     ---------------------------------------- 0.0/3.9 MB ? eta -:--:--\n",
      "     -- ------------------------------------- 0.2/3.9 MB 4.6 MB/s eta 0:00:01\n",
      "     ---- ----------------------------------- 0.4/3.9 MB 5.3 MB/s eta 0:00:01\n",
      "     ------ --------------------------------- 0.6/3.9 MB 4.4 MB/s eta 0:00:01\n",
      "     -------- ------------------------------- 0.9/3.9 MB 4.5 MB/s eta 0:00:01\n",
      "     ----------- ---------------------------- 1.1/3.9 MB 4.6 MB/s eta 0:00:01\n",
      "     ------------- -------------------------- 1.3/3.9 MB 4.6 MB/s eta 0:00:01\n",
      "     --------------- ------------------------ 1.5/3.9 MB 4.5 MB/s eta 0:00:01\n",
      "     ----------------- ---------------------- 1.7/3.9 MB 4.6 MB/s eta 0:00:01\n",
      "     ------------------- -------------------- 1.9/3.9 MB 4.5 MB/s eta 0:00:01\n",
      "     --------------------- ------------------ 2.1/3.9 MB 4.4 MB/s eta 0:00:01\n",
      "     ----------------------- ---------------- 2.3/3.9 MB 4.5 MB/s eta 0:00:01\n",
      "     ------------------------- -------------- 2.5/3.9 MB 4.5 MB/s eta 0:00:01\n",
      "     --------------------------- ------------ 2.7/3.9 MB 4.5 MB/s eta 0:00:01\n",
      "     ------------------------------ --------- 2.9/3.9 MB 4.5 MB/s eta 0:00:01\n",
      "     -------------------------------- ------- 3.2/3.9 MB 4.5 MB/s eta 0:00:01\n",
      "     ---------------------------------- ----- 3.4/3.9 MB 4.5 MB/s eta 0:00:01\n",
      "     ------------------------------------ --- 3.6/3.9 MB 4.5 MB/s eta 0:00:01\n",
      "     -------------------------------------- - 3.8/3.9 MB 4.6 MB/s eta 0:00:01\n",
      "     ---------------------------------------  3.9/3.9 MB 4.5 MB/s eta 0:00:01\n",
      "     ---------------------------------------- 3.9/3.9 MB 4.4 MB/s eta 0:00:00\n",
      "Collecting numpy>=1.20.3\n",
      "  Downloading numpy-1.24.4-cp38-cp38-win_amd64.whl (14.9 MB)\n",
      "     ---------------------------------------- 0.0/14.9 MB ? eta -:--:--\n",
      "      --------------------------------------- 0.2/14.9 MB 6.3 MB/s eta 0:00:03\n",
      "     - -------------------------------------- 0.5/14.9 MB 5.6 MB/s eta 0:00:03\n",
      "     - -------------------------------------- 0.7/14.9 MB 5.4 MB/s eta 0:00:03\n",
      "     -- ------------------------------------- 0.9/14.9 MB 5.4 MB/s eta 0:00:03\n",
      "     --- ------------------------------------ 1.2/14.9 MB 4.9 MB/s eta 0:00:03\n",
      "     --- ------------------------------------ 1.4/14.9 MB 5.2 MB/s eta 0:00:03\n",
      "     ---- ----------------------------------- 1.6/14.9 MB 5.0 MB/s eta 0:00:03\n",
      "     ----- ---------------------------------- 1.9/14.9 MB 5.2 MB/s eta 0:00:03\n",
      "     ----- ---------------------------------- 2.1/14.9 MB 5.0 MB/s eta 0:00:03\n",
      "     ------ --------------------------------- 2.3/14.9 MB 4.8 MB/s eta 0:00:03\n",
      "     ------ --------------------------------- 2.5/14.9 MB 4.9 MB/s eta 0:00:03\n",
      "     ------- -------------------------------- 2.7/14.9 MB 4.9 MB/s eta 0:00:03\n",
      "     -------- ------------------------------- 3.0/14.9 MB 4.9 MB/s eta 0:00:03\n",
      "     -------- ------------------------------- 3.2/14.9 MB 5.0 MB/s eta 0:00:03\n",
      "     --------- ------------------------------ 3.5/14.9 MB 5.0 MB/s eta 0:00:03\n",
      "     ---------- ----------------------------- 3.8/14.9 MB 5.1 MB/s eta 0:00:03\n",
      "     ---------- ----------------------------- 4.0/14.9 MB 5.0 MB/s eta 0:00:03\n",
      "     ----------- ---------------------------- 4.2/14.9 MB 5.1 MB/s eta 0:00:03\n",
      "     ------------ --------------------------- 4.5/14.9 MB 5.2 MB/s eta 0:00:03\n",
      "     ------------ --------------------------- 4.8/14.9 MB 5.2 MB/s eta 0:00:02\n",
      "     ------------- -------------------------- 5.0/14.9 MB 5.2 MB/s eta 0:00:02\n",
      "     -------------- ------------------------- 5.3/14.9 MB 5.2 MB/s eta 0:00:02\n",
      "     --------------- ------------------------ 5.6/14.9 MB 5.2 MB/s eta 0:00:02\n",
      "     ---------------- ----------------------- 6.0/14.9 MB 5.2 MB/s eta 0:00:02\n",
      "     ---------------- ----------------------- 6.2/14.9 MB 5.2 MB/s eta 0:00:02\n",
      "     ----------------- ---------------------- 6.3/14.9 MB 5.1 MB/s eta 0:00:02\n",
      "     ----------------- ---------------------- 6.6/14.9 MB 5.1 MB/s eta 0:00:02\n",
      "     ------------------ --------------------- 6.8/14.9 MB 5.2 MB/s eta 0:00:02\n",
      "     ------------------- -------------------- 7.1/14.9 MB 5.2 MB/s eta 0:00:02\n",
      "     ------------------- -------------------- 7.4/14.9 MB 5.2 MB/s eta 0:00:02\n",
      "     -------------------- ------------------- 7.6/14.9 MB 5.2 MB/s eta 0:00:02\n",
      "     --------------------- ------------------ 7.9/14.9 MB 5.2 MB/s eta 0:00:02\n",
      "     ---------------------- ----------------- 8.2/14.9 MB 5.2 MB/s eta 0:00:02\n",
      "     ---------------------- ----------------- 8.5/14.9 MB 5.3 MB/s eta 0:00:02\n",
      "     ----------------------- ---------------- 8.8/14.9 MB 5.3 MB/s eta 0:00:02\n",
      "     ------------------------ --------------- 9.1/14.9 MB 5.3 MB/s eta 0:00:02\n",
      "     ------------------------ --------------- 9.3/14.9 MB 5.3 MB/s eta 0:00:02\n",
      "     ------------------------- -------------- 9.5/14.9 MB 5.3 MB/s eta 0:00:02\n",
      "     -------------------------- ------------- 9.8/14.9 MB 5.3 MB/s eta 0:00:01\n",
      "     -------------------------- ------------- 10.0/14.9 MB 5.3 MB/s eta 0:00:01\n",
      "     --------------------------- ------------ 10.3/14.9 MB 5.3 MB/s eta 0:00:01\n",
      "     ---------------------------- ----------- 10.4/14.9 MB 5.3 MB/s eta 0:00:01\n",
      "     ---------------------------- ----------- 10.7/14.9 MB 5.3 MB/s eta 0:00:01\n",
      "     ----------------------------- ---------- 11.0/14.9 MB 5.3 MB/s eta 0:00:01\n",
      "     ------------------------------ --------- 11.3/14.9 MB 5.3 MB/s eta 0:00:01\n",
      "     ------------------------------ --------- 11.5/14.9 MB 5.3 MB/s eta 0:00:01\n",
      "     ------------------------------- -------- 11.8/14.9 MB 5.4 MB/s eta 0:00:01\n",
      "     -------------------------------- ------- 12.1/14.9 MB 5.4 MB/s eta 0:00:01\n",
      "     --------------------------------- ------ 12.4/14.9 MB 5.5 MB/s eta 0:00:01\n",
      "     --------------------------------- ------ 12.6/14.9 MB 5.5 MB/s eta 0:00:01\n",
      "     ---------------------------------- ----- 13.0/14.9 MB 5.5 MB/s eta 0:00:01\n",
      "     ----------------------------------- ---- 13.3/14.9 MB 5.5 MB/s eta 0:00:01\n",
      "     ------------------------------------ --- 13.6/14.9 MB 5.6 MB/s eta 0:00:01\n",
      "     ------------------------------------- -- 13.9/14.9 MB 5.6 MB/s eta 0:00:01\n",
      "     -------------------------------------- - 14.2/14.9 MB 5.6 MB/s eta 0:00:01\n",
      "     ---------------------------------------  14.5/14.9 MB 5.7 MB/s eta 0:00:01\n",
      "     ---------------------------------------  14.8/14.9 MB 5.7 MB/s eta 0:00:01\n",
      "     ---------------------------------------  14.9/14.9 MB 5.7 MB/s eta 0:00:01\n",
      "     ---------------------------------------  14.9/14.9 MB 5.7 MB/s eta 0:00:01\n",
      "     ---------------------------------------- 14.9/14.9 MB 5.4 MB/s eta 0:00:00\n",
      "Collecting tzdata>=2022.1\n",
      "  Downloading tzdata-2024.1-py2.py3-none-any.whl (345 kB)\n",
      "     ---------------------------------------- 0.0/345.4 kB ? eta -:--:--\n",
      "     ---------------------------------- --- 317.4/345.4 kB 6.5 MB/s eta 0:00:01\n",
      "     -------------------------------------- 345.4/345.4 kB 7.1 MB/s eta 0:00:00\n",
      "Requirement already satisfied: python-dateutil>=2.8.2 in c:\\users\\kkopalley\\onedrive - primary residential mortgage\\documents\\ml project\\venv\\lib\\site-packages (from pandas>=0.23->pandas-datareader) (2.8.2)\n",
      "Requirement already satisfied: pytz>=2020.1 in c:\\users\\kkopalley\\onedrive - primary residential mortgage\\documents\\ml project\\venv\\lib\\site-packages (from pandas>=0.23->pandas-datareader) (2023.3.post1)\n",
      "Requirement already satisfied: idna<4,>=2.5 in c:\\users\\kkopalley\\onedrive - primary residential mortgage\\documents\\ml project\\venv\\lib\\site-packages (from requests>=2.19.0->pandas-datareader) (3.4)\n",
      "Requirement already satisfied: certifi>=2017.4.17 in c:\\users\\kkopalley\\onedrive - primary residential mortgage\\documents\\ml project\\venv\\lib\\site-packages (from requests>=2.19.0->pandas-datareader) (2024.2.2)\n",
      "Requirement already satisfied: charset-normalizer<4,>=2 in c:\\users\\kkopalley\\onedrive - primary residential mortgage\\documents\\ml project\\venv\\lib\\site-packages (from requests>=2.19.0->pandas-datareader) (2.0.4)\n",
      "Requirement already satisfied: urllib3<3,>=1.21.1 in c:\\users\\kkopalley\\onedrive - primary residential mortgage\\documents\\ml project\\venv\\lib\\site-packages (from requests>=2.19.0->pandas-datareader) (2.1.0)\n",
      "Requirement already satisfied: six>=1.5 in c:\\users\\kkopalley\\onedrive - primary residential mortgage\\documents\\ml project\\venv\\lib\\site-packages (from python-dateutil>=2.8.2->pandas>=0.23->pandas-datareader) (1.16.0)\n",
      "Installing collected packages: tzdata, numpy, lxml, pandas, pandas-datareader\n",
      "Successfully installed lxml-5.1.0 numpy-1.24.4 pandas-2.0.3 pandas-datareader-0.10.0 tzdata-2024.1\n"
     ]
    }
   ],
   "source": [
    "!pip install pandas-datareader"
   ]
  },
  {
   "cell_type": "code",
   "execution_count": 7,
   "id": "f90d8c55-36c2-49d1-af87-07eebb98a43e",
   "metadata": {},
   "outputs": [
    {
     "name": "stdout",
     "output_type": "stream",
     "text": [
      "Collecting matplotlib\n",
      "  Downloading matplotlib-3.7.5-cp38-cp38-win_amd64.whl (7.5 MB)\n",
      "     ---------------------------------------- 0.0/7.5 MB ? eta -:--:--\n",
      "     ---------------------------------------- 0.1/7.5 MB 4.8 MB/s eta 0:00:02\n",
      "      --------------------------------------- 0.2/7.5 MB 2.5 MB/s eta 0:00:03\n",
      "     - -------------------------------------- 0.2/7.5 MB 2.2 MB/s eta 0:00:04\n",
      "     - -------------------------------------- 0.3/7.5 MB 2.0 MB/s eta 0:00:04\n",
      "     -- ------------------------------------- 0.4/7.5 MB 2.0 MB/s eta 0:00:04\n",
      "     -- ------------------------------------- 0.5/7.5 MB 1.9 MB/s eta 0:00:04\n",
      "     --- ------------------------------------ 0.6/7.5 MB 1.9 MB/s eta 0:00:04\n",
      "     --- ------------------------------------ 0.7/7.5 MB 1.9 MB/s eta 0:00:04\n",
      "     ---- ----------------------------------- 0.8/7.5 MB 1.9 MB/s eta 0:00:04\n",
      "     ---- ----------------------------------- 0.8/7.5 MB 1.9 MB/s eta 0:00:04\n",
      "     ----- ---------------------------------- 1.0/7.5 MB 1.9 MB/s eta 0:00:04\n",
      "     ----- ---------------------------------- 1.0/7.5 MB 1.9 MB/s eta 0:00:04\n",
      "     ------ --------------------------------- 1.2/7.5 MB 2.0 MB/s eta 0:00:04\n",
      "     ------ --------------------------------- 1.2/7.5 MB 2.0 MB/s eta 0:00:04\n",
      "     ------ --------------------------------- 1.3/7.5 MB 2.0 MB/s eta 0:00:04\n",
      "     ------- -------------------------------- 1.4/7.5 MB 2.0 MB/s eta 0:00:04\n",
      "     -------- ------------------------------- 1.5/7.5 MB 2.0 MB/s eta 0:00:04\n",
      "     -------- ------------------------------- 1.6/7.5 MB 2.0 MB/s eta 0:00:03\n",
      "     --------- ------------------------------ 1.8/7.5 MB 2.1 MB/s eta 0:00:03\n",
      "     --------- ------------------------------ 1.9/7.5 MB 2.0 MB/s eta 0:00:03\n",
      "     ---------- ----------------------------- 2.0/7.5 MB 2.1 MB/s eta 0:00:03\n",
      "     ----------- ---------------------------- 2.1/7.5 MB 2.1 MB/s eta 0:00:03\n",
      "     ----------- ---------------------------- 2.2/7.5 MB 2.1 MB/s eta 0:00:03\n",
      "     ------------ --------------------------- 2.3/7.5 MB 2.1 MB/s eta 0:00:03\n",
      "     ------------- -------------------------- 2.4/7.5 MB 2.1 MB/s eta 0:00:03\n",
      "     ------------- -------------------------- 2.6/7.5 MB 2.2 MB/s eta 0:00:03\n",
      "     -------------- ------------------------- 2.7/7.5 MB 2.2 MB/s eta 0:00:03\n",
      "     -------------- ------------------------- 2.8/7.5 MB 2.2 MB/s eta 0:00:03\n",
      "     --------------- ------------------------ 2.9/7.5 MB 2.2 MB/s eta 0:00:03\n",
      "     ---------------- ----------------------- 3.1/7.5 MB 2.2 MB/s eta 0:00:02\n",
      "     ----------------- ---------------------- 3.2/7.5 MB 2.3 MB/s eta 0:00:02\n",
      "     ----------------- ---------------------- 3.4/7.5 MB 2.3 MB/s eta 0:00:02\n",
      "     ------------------ --------------------- 3.5/7.5 MB 2.3 MB/s eta 0:00:02\n",
      "     ------------------- -------------------- 3.6/7.5 MB 2.3 MB/s eta 0:00:02\n",
      "     -------------------- ------------------- 3.8/7.5 MB 2.4 MB/s eta 0:00:02\n",
      "     --------------------- ------------------ 4.0/7.5 MB 2.4 MB/s eta 0:00:02\n",
      "     --------------------- ------------------ 4.0/7.5 MB 2.4 MB/s eta 0:00:02\n",
      "     ---------------------- ----------------- 4.2/7.5 MB 2.4 MB/s eta 0:00:02\n",
      "     ----------------------- ---------------- 4.4/7.5 MB 2.4 MB/s eta 0:00:02\n",
      "     ------------------------ --------------- 4.5/7.5 MB 2.5 MB/s eta 0:00:02\n",
      "     ------------------------- -------------- 4.7/7.5 MB 2.5 MB/s eta 0:00:02\n",
      "     ------------------------- -------------- 4.9/7.5 MB 2.5 MB/s eta 0:00:02\n",
      "     -------------------------- ------------- 5.1/7.5 MB 2.5 MB/s eta 0:00:01\n",
      "     --------------------------- ------------ 5.2/7.5 MB 2.6 MB/s eta 0:00:01\n",
      "     ---------------------------- ----------- 5.4/7.5 MB 2.6 MB/s eta 0:00:01\n",
      "     ----------------------------- ---------- 5.5/7.5 MB 2.6 MB/s eta 0:00:01\n",
      "     ------------------------------ --------- 5.7/7.5 MB 2.7 MB/s eta 0:00:01\n",
      "     ------------------------------- -------- 5.9/7.5 MB 2.7 MB/s eta 0:00:01\n",
      "     -------------------------------- ------- 6.1/7.5 MB 2.7 MB/s eta 0:00:01\n",
      "     --------------------------------- ------ 6.3/7.5 MB 2.7 MB/s eta 0:00:01\n",
      "     ---------------------------------- ----- 6.5/7.5 MB 2.7 MB/s eta 0:00:01\n",
      "     ----------------------------------- ---- 6.6/7.5 MB 2.8 MB/s eta 0:00:01\n",
      "     ------------------------------------ --- 6.8/7.5 MB 2.8 MB/s eta 0:00:01\n",
      "     ------------------------------------- -- 7.0/7.5 MB 2.8 MB/s eta 0:00:01\n",
      "     ------------------------------------- -- 7.1/7.5 MB 2.8 MB/s eta 0:00:01\n",
      "     -------------------------------------- - 7.2/7.5 MB 2.8 MB/s eta 0:00:01\n",
      "     ---------------------------------------  7.4/7.5 MB 2.8 MB/s eta 0:00:01\n",
      "     ---------------------------------------  7.4/7.5 MB 2.8 MB/s eta 0:00:01\n",
      "     ---------------------------------------  7.5/7.5 MB 2.8 MB/s eta 0:00:01\n",
      "     ---------------------------------------  7.5/7.5 MB 2.8 MB/s eta 0:00:01\n",
      "     ---------------------------------------- 7.5/7.5 MB 2.7 MB/s eta 0:00:00\n",
      "Collecting pillow>=6.2.0\n",
      "  Downloading pillow-10.2.0-cp38-cp38-win_amd64.whl (2.6 MB)\n",
      "     ---------------------------------------- 0.0/2.6 MB ? eta -:--:--\n",
      "     - -------------------------------------- 0.1/2.6 MB 2.2 MB/s eta 0:00:02\n",
      "     ---- ----------------------------------- 0.3/2.6 MB 2.8 MB/s eta 0:00:01\n",
      "     ------ --------------------------------- 0.4/2.6 MB 3.3 MB/s eta 0:00:01\n",
      "     --------- ------------------------------ 0.6/2.6 MB 3.2 MB/s eta 0:00:01\n",
      "     ------------ --------------------------- 0.8/2.6 MB 3.6 MB/s eta 0:00:01\n",
      "     ---------------- ----------------------- 1.1/2.6 MB 3.7 MB/s eta 0:00:01\n",
      "     ------------------- -------------------- 1.3/2.6 MB 3.8 MB/s eta 0:00:01\n",
      "     ---------------------- ----------------- 1.5/2.6 MB 3.9 MB/s eta 0:00:01\n",
      "     ------------------------- -------------- 1.6/2.6 MB 3.9 MB/s eta 0:00:01\n",
      "     ---------------------------- ----------- 1.9/2.6 MB 4.0 MB/s eta 0:00:01\n",
      "     ------------------------------- -------- 2.1/2.6 MB 4.0 MB/s eta 0:00:01\n",
      "     ----------------------------------- ---- 2.3/2.6 MB 4.1 MB/s eta 0:00:01\n",
      "     -------------------------------------- - 2.5/2.6 MB 4.1 MB/s eta 0:00:01\n",
      "     ---------------------------------------- 2.6/2.6 MB 4.0 MB/s eta 0:00:00\n",
      "Collecting cycler>=0.10\n",
      "  Downloading cycler-0.12.1-py3-none-any.whl (8.3 kB)\n",
      "Requirement already satisfied: packaging>=20.0 in c:\\users\\kkopalley\\onedrive - primary residential mortgage\\documents\\ml project\\venv\\lib\\site-packages (from matplotlib) (23.1)\n",
      "Collecting kiwisolver>=1.0.1\n",
      "  Downloading kiwisolver-1.4.5-cp38-cp38-win_amd64.whl (56 kB)\n",
      "     ---------------------------------------- 0.0/56.2 kB ? eta -:--:--\n",
      "     ---------------------------------------- 56.2/56.2 kB 2.9 MB/s eta 0:00:00\n",
      "Requirement already satisfied: importlib-resources>=3.2.0 in c:\\users\\kkopalley\\onedrive - primary residential mortgage\\documents\\ml project\\venv\\lib\\site-packages (from matplotlib) (6.1.1)\n",
      "Requirement already satisfied: numpy<2,>=1.20 in c:\\users\\kkopalley\\onedrive - primary residential mortgage\\documents\\ml project\\venv\\lib\\site-packages (from matplotlib) (1.24.4)\n",
      "Collecting fonttools>=4.22.0\n",
      "  Downloading fonttools-4.49.0-cp38-cp38-win_amd64.whl (1.5 MB)\n",
      "     ---------------------------------------- 0.0/1.5 MB ? eta -:--:--\n",
      "     ------ --------------------------------- 0.2/1.5 MB 7.6 MB/s eta 0:00:01\n",
      "     ------------ --------------------------- 0.5/1.5 MB 5.0 MB/s eta 0:00:01\n",
      "     ----------------- ---------------------- 0.7/1.5 MB 4.8 MB/s eta 0:00:01\n",
      "     ------------------------ --------------- 0.9/1.5 MB 4.8 MB/s eta 0:00:01\n",
      "     -------------------------- ------------- 1.0/1.5 MB 4.9 MB/s eta 0:00:01\n",
      "     ------------------------------- -------- 1.2/1.5 MB 4.4 MB/s eta 0:00:01\n",
      "     ----------------------------------- ---- 1.4/1.5 MB 4.1 MB/s eta 0:00:01\n",
      "     ---------------------------------------- 1.5/1.5 MB 4.2 MB/s eta 0:00:00\n",
      "Requirement already satisfied: python-dateutil>=2.7 in c:\\users\\kkopalley\\onedrive - primary residential mortgage\\documents\\ml project\\venv\\lib\\site-packages (from matplotlib) (2.8.2)\n",
      "Collecting pyparsing>=2.3.1\n",
      "  Downloading pyparsing-3.1.1-py3-none-any.whl (103 kB)\n",
      "     ---------------------------------------- 0.0/103.1 kB ? eta -:--:--\n",
      "     ---------------------------------------- 103.1/103.1 kB ? eta 0:00:00\n",
      "Collecting contourpy>=1.0.1\n",
      "  Downloading contourpy-1.1.1-cp38-cp38-win_amd64.whl (477 kB)\n",
      "     ---------------------------------------- 0.0/477.9 kB ? eta -:--:--\n",
      "     ---------------- --------------------- 204.8/477.9 kB 6.1 MB/s eta 0:00:01\n",
      "     ------------------------------------ - 460.8/477.9 kB 4.8 MB/s eta 0:00:01\n",
      "     -------------------------------------- 477.9/477.9 kB 4.3 MB/s eta 0:00:00\n",
      "Requirement already satisfied: zipp>=3.1.0 in c:\\users\\kkopalley\\onedrive - primary residential mortgage\\documents\\ml project\\venv\\lib\\site-packages (from importlib-resources>=3.2.0->matplotlib) (3.17.0)\n",
      "Requirement already satisfied: six>=1.5 in c:\\users\\kkopalley\\onedrive - primary residential mortgage\\documents\\ml project\\venv\\lib\\site-packages (from python-dateutil>=2.7->matplotlib) (1.16.0)\n",
      "Installing collected packages: pyparsing, pillow, kiwisolver, fonttools, cycler, contourpy, matplotlib\n",
      "Successfully installed contourpy-1.1.1 cycler-0.12.1 fonttools-4.49.0 kiwisolver-1.4.5 matplotlib-3.7.5 pillow-10.2.0 pyparsing-3.1.1\n"
     ]
    }
   ],
   "source": [
    "!pip install matplotlib"
   ]
  },
  {
   "cell_type": "markdown",
   "id": "c48517af-7fe8-4fba-9f18-da05ab7eb20d",
   "metadata": {},
   "source": [
    "__Import all the required libraries for our analysis__"
   ]
  },
  {
   "cell_type": "code",
   "execution_count": 14,
   "id": "a9aca849",
   "metadata": {},
   "outputs": [],
   "source": [
    "import pandas_datareader.data as pdr\n",
    "import pandas as pd\n",
    "from datetime import datetime\n",
    "import yfinance as fyf\n",
    "import matplotlib.pyplot as plt\n",
    "%matplotlib inline"
   ]
  },
  {
   "cell_type": "markdown",
   "id": "5b7a01a0-771b-4d09-b9dc-36bf7cb04baa",
   "metadata": {},
   "source": [
    "The pdr_override() function is a utility function in the pandas_datareader library. It allows you to override the default data reader for Yahoo Finance with a custom data reader. This can be useful in cases where you want to use a different data source or a modified version of the Yahoo Finance data reader."
   ]
  },
  {
   "cell_type": "code",
   "execution_count": 2,
   "id": "cd43450a",
   "metadata": {},
   "outputs": [],
   "source": [
    "fyf.pdr_override()"
   ]
  },
  {
   "cell_type": "code",
   "execution_count": 3,
   "id": "14de05ba-fc8d-416d-aff3-d431dd30c727",
   "metadata": {},
   "outputs": [
    {
     "name": "stderr",
     "output_type": "stream",
     "text": [
      "[*********************100%%**********************]  1 of 1 completed\n"
     ]
    }
   ],
   "source": [
    "df_tesla=pdr.get_data_yahoo('TSLA')"
   ]
  },
  {
   "cell_type": "code",
   "execution_count": 4,
   "id": "abe59b12-3320-47c9-8e43-a7554c8f4860",
   "metadata": {},
   "outputs": [
    {
     "data": {
      "text/html": [
       "<div>\n",
       "<style scoped>\n",
       "    .dataframe tbody tr th:only-of-type {\n",
       "        vertical-align: middle;\n",
       "    }\n",
       "\n",
       "    .dataframe tbody tr th {\n",
       "        vertical-align: top;\n",
       "    }\n",
       "\n",
       "    .dataframe thead th {\n",
       "        text-align: right;\n",
       "    }\n",
       "</style>\n",
       "<table border=\"1\" class=\"dataframe\">\n",
       "  <thead>\n",
       "    <tr style=\"text-align: right;\">\n",
       "      <th></th>\n",
       "      <th>Open</th>\n",
       "      <th>High</th>\n",
       "      <th>Low</th>\n",
       "      <th>Close</th>\n",
       "      <th>Adj Close</th>\n",
       "      <th>Volume</th>\n",
       "    </tr>\n",
       "    <tr>\n",
       "      <th>Date</th>\n",
       "      <th></th>\n",
       "      <th></th>\n",
       "      <th></th>\n",
       "      <th></th>\n",
       "      <th></th>\n",
       "      <th></th>\n",
       "    </tr>\n",
       "  </thead>\n",
       "  <tbody>\n",
       "    <tr>\n",
       "      <th>2024-02-12</th>\n",
       "      <td>192.110001</td>\n",
       "      <td>194.729996</td>\n",
       "      <td>187.279999</td>\n",
       "      <td>188.130005</td>\n",
       "      <td>188.130005</td>\n",
       "      <td>95498600</td>\n",
       "    </tr>\n",
       "    <tr>\n",
       "      <th>2024-02-13</th>\n",
       "      <td>183.990005</td>\n",
       "      <td>187.259995</td>\n",
       "      <td>182.110001</td>\n",
       "      <td>184.020004</td>\n",
       "      <td>184.020004</td>\n",
       "      <td>86759500</td>\n",
       "    </tr>\n",
       "    <tr>\n",
       "      <th>2024-02-14</th>\n",
       "      <td>185.300003</td>\n",
       "      <td>188.889999</td>\n",
       "      <td>183.350006</td>\n",
       "      <td>188.710007</td>\n",
       "      <td>188.710007</td>\n",
       "      <td>81203000</td>\n",
       "    </tr>\n",
       "    <tr>\n",
       "      <th>2024-02-15</th>\n",
       "      <td>189.160004</td>\n",
       "      <td>200.880005</td>\n",
       "      <td>188.860001</td>\n",
       "      <td>200.449997</td>\n",
       "      <td>200.449997</td>\n",
       "      <td>120831800</td>\n",
       "    </tr>\n",
       "    <tr>\n",
       "      <th>2024-02-16</th>\n",
       "      <td>202.059998</td>\n",
       "      <td>203.169998</td>\n",
       "      <td>197.399994</td>\n",
       "      <td>199.949997</td>\n",
       "      <td>199.949997</td>\n",
       "      <td>111173600</td>\n",
       "    </tr>\n",
       "  </tbody>\n",
       "</table>\n",
       "</div>"
      ],
      "text/plain": [
       "                  Open        High         Low       Close   Adj Close  \\\n",
       "Date                                                                     \n",
       "2024-02-12  192.110001  194.729996  187.279999  188.130005  188.130005   \n",
       "2024-02-13  183.990005  187.259995  182.110001  184.020004  184.020004   \n",
       "2024-02-14  185.300003  188.889999  183.350006  188.710007  188.710007   \n",
       "2024-02-15  189.160004  200.880005  188.860001  200.449997  200.449997   \n",
       "2024-02-16  202.059998  203.169998  197.399994  199.949997  199.949997   \n",
       "\n",
       "               Volume  \n",
       "Date                   \n",
       "2024-02-12   95498600  \n",
       "2024-02-13   86759500  \n",
       "2024-02-14   81203000  \n",
       "2024-02-15  120831800  \n",
       "2024-02-16  111173600  "
      ]
     },
     "execution_count": 4,
     "metadata": {},
     "output_type": "execute_result"
    }
   ],
   "source": [
    "df_tesla.tail()"
   ]
  },
  {
   "cell_type": "code",
   "execution_count": 5,
   "id": "42b2ed0e",
   "metadata": {},
   "outputs": [
    {
     "data": {
      "text/plain": [
       "<Axes: xlabel='Date'>"
      ]
     },
     "execution_count": 5,
     "metadata": {},
     "output_type": "execute_result"
    },
    {
     "data": {
      "image/png": "[encoded data removed]",
      "text/plain": [
       "<Figure size 1200x400 with 1 Axes>"
      ]
     },
     "metadata": {},
     "output_type": "display_data"
    }
   ],
   "source": [
    "df_tesla['High'].plot(figsize=(12,4))"
   ]
  },
  {
   "cell_type": "code",
   "execution_count": 6,
   "id": "2564b531",
   "metadata": {},
   "outputs": [
    {
     "data": {
      "text/plain": [
       "<Axes: xlabel='Date'>"
      ]
     },
     "execution_count": 6,
     "metadata": {},
     "output_type": "execute_result"
    },
    {
     "data": {
      "image/png": "[encoded data removed]",
      "text/plain": [
       "<Figure size 1200x400 with 1 Axes>"
      ]
     },
     "metadata": {},
     "output_type": "display_data"
    }
   ],
   "source": [
    "## xlimit and y limit\n",
    "df_tesla['High'].plot(xlim=['2020-01-01','2021-09-01'],figsize=(12,4))"
   ]
  },
  {
   "cell_type": "code",
   "execution_count": 7,
   "id": "8a927152",
   "metadata": {},
   "outputs": [
    {
     "data": {
      "text/plain": [
       "<Axes: xlabel='Date'>"
      ]
     },
     "execution_count": 7,
     "metadata": {},
     "output_type": "execute_result"
    },
    {
     "data": {
      "image/png": "[encoded data removed]",
      "text/plain": [
       "<Figure size 1200x400 with 1 Axes>"
      ]
     },
     "metadata": {},
     "output_type": "display_data"
    }
   ],
   "source": [
    "## xlimit and y limit\n",
    "df_tesla['High'].plot(xlim=['2020-01-01','2021-09-01'],ylim=[0,900],figsize=(12,4))"
   ]
  },
  {
   "cell_type": "code",
   "execution_count": 8,
   "id": "a1c26cc4",
   "metadata": {},
   "outputs": [
    {
     "data": {
      "text/plain": [
       "<Axes: xlabel='Date'>"
      ]
     },
     "execution_count": 8,
     "metadata": {},
     "output_type": "execute_result"
    },
    {
     "data": {
      "image/png": "[encoded data removed]",
      "text/plain": [
       "<Figure size 1200x400 with 1 Axes>"
      ]
     },
     "metadata": {},
     "output_type": "display_data"
    }
   ],
   "source": [
    "## xlimit and y limit and coloring\n",
    "df_tesla['High'].plot(xlim=['2020-01-01','2021-09-01'],ylim=[0,900],figsize=(12,4),ls='--',c='green')"
   ]
  },
  {
   "cell_type": "code",
   "execution_count": 9,
   "id": "f5abbe0e",
   "metadata": {},
   "outputs": [
    {
     "data": {
      "text/plain": [
       "DatetimeIndex(['2010-06-29', '2010-06-30', '2010-07-01', '2010-07-02',\n",
       "               '2010-07-06', '2010-07-07', '2010-07-08', '2010-07-09',\n",
       "               '2010-07-12', '2010-07-13',\n",
       "               ...\n",
       "               '2024-02-05', '2024-02-06', '2024-02-07', '2024-02-08',\n",
       "               '2024-02-09', '2024-02-12', '2024-02-13', '2024-02-14',\n",
       "               '2024-02-15', '2024-02-16'],\n",
       "              dtype='datetime64[ns]', name='Date', length=3433, freq=None)"
      ]
     },
     "execution_count": 9,
     "metadata": {},
     "output_type": "execute_result"
    }
   ],
   "source": [
    "df_tesla.index"
   ]
  },
  {
   "cell_type": "code",
   "execution_count": 10,
   "id": "7214bae7",
   "metadata": {},
   "outputs": [],
   "source": [
    "index=df_tesla.loc['2020-01-01':'2021-09-01'].index\n",
    "share_open=df_tesla.loc['2020-01-01':'2021-09-01']['Open']"
   ]
  },
  {
   "cell_type": "code",
   "execution_count": 11,
   "id": "7d29fec6",
   "metadata": {},
   "outputs": [
    {
     "data": {
      "text/plain": [
       "Date\n",
       "2020-01-02     28.299999\n",
       "2020-01-03     29.366667\n",
       "2020-01-06     29.364668\n",
       "2020-01-07     30.760000\n",
       "2020-01-08     31.580000\n",
       "                 ...    \n",
       "2021-08-26    236.103333\n",
       "2021-08-27    235.000000\n",
       "2021-08-30    238.240005\n",
       "2021-08-31    244.333328\n",
       "2021-09-01    244.693329\n",
       "Name: Open, Length: 421, dtype: float64"
      ]
     },
     "execution_count": 11,
     "metadata": {},
     "output_type": "execute_result"
    }
   ],
   "source": [
    "share_open"
   ]
  },
  {
   "cell_type": "code",
   "execution_count": 12,
   "id": "a4c4cabb",
   "metadata": {},
   "outputs": [
    {
     "data": {
      "text/plain": [
       "DatetimeIndex(['2020-01-02', '2020-01-03', '2020-01-06', '2020-01-07',\n",
       "               '2020-01-08', '2020-01-09', '2020-01-10', '2020-01-13',\n",
       "               '2020-01-14', '2020-01-15',\n",
       "               ...\n",
       "               '2021-08-19', '2021-08-20', '2021-08-23', '2021-08-24',\n",
       "               '2021-08-25', '2021-08-26', '2021-08-27', '2021-08-30',\n",
       "               '2021-08-31', '2021-09-01'],\n",
       "              dtype='datetime64[ns]', name='Date', length=421, freq=None)"
      ]
     },
     "execution_count": 12,
     "metadata": {},
     "output_type": "execute_result"
    }
   ],
   "source": [
    "index"
   ]
  },
  {
   "cell_type": "code",
   "execution_count": 15,
   "id": "5da74d25",
   "metadata": {},
   "outputs": [
    {
     "data": {
      "text/plain": [
       "[<matplotlib.lines.Line2D at 0x1875b0bbe20>]"
      ]
     },
     "execution_count": 15,
     "metadata": {},
     "output_type": "execute_result"
    },
    {
     "data": {
      "image/png": "[encoded data removed]",
      "text/plain": [
       "<Figure size 640x480 with 1 Axes>"
      ]
     },
     "metadata": {},
     "output_type": "display_data"
    }
   ],
   "source": [
    "figure,axis=plt.subplots()\n",
    "plt.tight_layout()\n",
    "## Preventing overlapping\n",
    "figure.autofmt_xdate()\n",
    "axis.plot(index,share_open)"
   ]
  },
  {
   "cell_type": "code",
   "execution_count": 29,
   "id": "83149bd0",
   "metadata": {},
   "outputs": [],
   "source": [
    "## Datetime Index"
   ]
  },
  {
   "cell_type": "code",
   "execution_count": 16,
   "id": "8350ca58",
   "metadata": {},
   "outputs": [],
   "source": [
    "df_tesla=df_tesla.reset_index()"
   ]
  },
  {
   "cell_type": "code",
   "execution_count": 17,
   "id": "6746d682",
   "metadata": {},
   "outputs": [
    {
     "name": "stdout",
     "output_type": "stream",
     "text": [
      "<class 'pandas.core.frame.DataFrame'>\n",
      "RangeIndex: 3433 entries, 0 to 3432\n",
      "Data columns (total 7 columns):\n",
      " #   Column     Non-Null Count  Dtype         \n",
      "---  ------     --------------  -----         \n",
      " 0   Date       3433 non-null   datetime64[ns]\n",
      " 1   Open       3433 non-null   float64       \n",
      " 2   High       3433 non-null   float64       \n",
      " 3   Low        3433 non-null   float64       \n",
      " 4   Close      3433 non-null   float64       \n",
      " 5   Adj Close  3433 non-null   float64       \n",
      " 6   Volume     3433 non-null   int64         \n",
      "dtypes: datetime64[ns](1), float64(5), int64(1)\n",
      "memory usage: 187.9 KB\n"
     ]
    }
   ],
   "source": [
    "df_tesla.info()"
   ]
  },
  {
   "cell_type": "code",
   "execution_count": 18,
   "id": "31c87e86",
   "metadata": {},
   "outputs": [],
   "source": [
    "df_tesla=df_tesla.set_index('Date',drop=True)"
   ]
  },
  {
   "cell_type": "code",
   "execution_count": 19,
   "id": "7423d545",
   "metadata": {},
   "outputs": [
    {
     "data": {
      "text/html": [
       "<div>\n",
       "<style scoped>\n",
       "    .dataframe tbody tr th:only-of-type {\n",
       "        vertical-align: middle;\n",
       "    }\n",
       "\n",
       "    .dataframe tbody tr th {\n",
       "        vertical-align: top;\n",
       "    }\n",
       "\n",
       "    .dataframe thead th {\n",
       "        text-align: right;\n",
       "    }\n",
       "</style>\n",
       "<table border=\"1\" class=\"dataframe\">\n",
       "  <thead>\n",
       "    <tr style=\"text-align: right;\">\n",
       "      <th></th>\n",
       "      <th>Open</th>\n",
       "      <th>High</th>\n",
       "      <th>Low</th>\n",
       "      <th>Close</th>\n",
       "      <th>Adj Close</th>\n",
       "      <th>Volume</th>\n",
       "    </tr>\n",
       "    <tr>\n",
       "      <th>Date</th>\n",
       "      <th></th>\n",
       "      <th></th>\n",
       "      <th></th>\n",
       "      <th></th>\n",
       "      <th></th>\n",
       "      <th></th>\n",
       "    </tr>\n",
       "  </thead>\n",
       "  <tbody>\n",
       "    <tr>\n",
       "      <th>2010-06-29</th>\n",
       "      <td>1.266667</td>\n",
       "      <td>1.666667</td>\n",
       "      <td>1.169333</td>\n",
       "      <td>1.592667</td>\n",
       "      <td>1.592667</td>\n",
       "      <td>281494500</td>\n",
       "    </tr>\n",
       "    <tr>\n",
       "      <th>2010-06-30</th>\n",
       "      <td>1.719333</td>\n",
       "      <td>2.028000</td>\n",
       "      <td>1.553333</td>\n",
       "      <td>1.588667</td>\n",
       "      <td>1.588667</td>\n",
       "      <td>257806500</td>\n",
       "    </tr>\n",
       "    <tr>\n",
       "      <th>2010-07-01</th>\n",
       "      <td>1.666667</td>\n",
       "      <td>1.728000</td>\n",
       "      <td>1.351333</td>\n",
       "      <td>1.464000</td>\n",
       "      <td>1.464000</td>\n",
       "      <td>123282000</td>\n",
       "    </tr>\n",
       "    <tr>\n",
       "      <th>2010-07-02</th>\n",
       "      <td>1.533333</td>\n",
       "      <td>1.540000</td>\n",
       "      <td>1.247333</td>\n",
       "      <td>1.280000</td>\n",
       "      <td>1.280000</td>\n",
       "      <td>77097000</td>\n",
       "    </tr>\n",
       "    <tr>\n",
       "      <th>2010-07-06</th>\n",
       "      <td>1.333333</td>\n",
       "      <td>1.333333</td>\n",
       "      <td>1.055333</td>\n",
       "      <td>1.074000</td>\n",
       "      <td>1.074000</td>\n",
       "      <td>103003500</td>\n",
       "    </tr>\n",
       "  </tbody>\n",
       "</table>\n",
       "</div>"
      ],
      "text/plain": [
       "                Open      High       Low     Close  Adj Close     Volume\n",
       "Date                                                                    \n",
       "2010-06-29  1.266667  1.666667  1.169333  1.592667   1.592667  281494500\n",
       "2010-06-30  1.719333  2.028000  1.553333  1.588667   1.588667  257806500\n",
       "2010-07-01  1.666667  1.728000  1.351333  1.464000   1.464000  123282000\n",
       "2010-07-02  1.533333  1.540000  1.247333  1.280000   1.280000   77097000\n",
       "2010-07-06  1.333333  1.333333  1.055333  1.074000   1.074000  103003500"
      ]
     },
     "execution_count": 19,
     "metadata": {},
     "output_type": "execute_result"
    }
   ],
   "source": [
    "df_tesla.head()"
   ]
  },
  {
   "cell_type": "code",
   "execution_count": 44,
   "id": "ed080582",
   "metadata": {},
   "outputs": [],
   "source": [
    "## datetime\n",
    "from datetime import datetime"
   ]
  },
  {
   "cell_type": "code",
   "execution_count": 45,
   "id": "8bdca59d",
   "metadata": {},
   "outputs": [
    {
     "data": {
      "text/plain": [
       "datetime.datetime(2021, 11, 21, 0, 0)"
      ]
     },
     "execution_count": 45,
     "metadata": {},
     "output_type": "execute_result"
    }
   ],
   "source": [
    "datetime(2021,11,21)"
   ]
  },
  {
   "cell_type": "code",
   "execution_count": 52,
   "id": "1f93e9a3",
   "metadata": {},
   "outputs": [
    {
     "data": {
      "text/plain": [
       "datetime.datetime(2022, 2, 25, 19, 34, 3, 931965)"
      ]
     },
     "execution_count": 52,
     "metadata": {},
     "output_type": "execute_result"
    }
   ],
   "source": [
    "datetime.now()"
   ]
  },
  {
   "cell_type": "code",
   "execution_count": 64,
   "id": "5069c363",
   "metadata": {},
   "outputs": [],
   "source": [
    "date=datetime(2021,11,21)"
   ]
  },
  {
   "cell_type": "code",
   "execution_count": 65,
   "id": "141a0f6c",
   "metadata": {},
   "outputs": [
    {
     "data": {
      "text/plain": [
       "datetime.datetime(2021, 11, 21, 0, 0)"
      ]
     },
     "execution_count": 65,
     "metadata": {},
     "output_type": "execute_result"
    }
   ],
   "source": [
    "date"
   ]
  },
  {
   "cell_type": "code",
   "execution_count": 67,
   "id": "10c90eef",
   "metadata": {},
   "outputs": [
    {
     "data": {
      "text/plain": [
       "datetime.date(2021, 11, 21)"
      ]
     },
     "execution_count": 67,
     "metadata": {},
     "output_type": "execute_result"
    }
   ],
   "source": [
    "date.date()"
   ]
  },
  {
   "cell_type": "code",
   "execution_count": 69,
   "id": "8d5c191c",
   "metadata": {},
   "outputs": [
    {
     "data": {
      "text/plain": [
       "21"
      ]
     },
     "execution_count": 69,
     "metadata": {},
     "output_type": "execute_result"
    }
   ],
   "source": [
    "date.day"
   ]
  },
  {
   "cell_type": "code",
   "execution_count": 71,
   "id": "bff30466",
   "metadata": {},
   "outputs": [
    {
     "data": {
      "text/plain": [
       "6"
      ]
     },
     "execution_count": 71,
     "metadata": {},
     "output_type": "execute_result"
    }
   ],
   "source": [
    "date.weekday()"
   ]
  },
  {
   "cell_type": "code",
   "execution_count": 72,
   "id": "602b8aea",
   "metadata": {},
   "outputs": [
    {
     "data": {
      "text/plain": [
       "2021"
      ]
     },
     "execution_count": 72,
     "metadata": {},
     "output_type": "execute_result"
    }
   ],
   "source": [
    "date.year"
   ]
  },
  {
   "cell_type": "code",
   "execution_count": 73,
   "id": "020b199c",
   "metadata": {},
   "outputs": [
    {
     "data": {
      "text/plain": [
       "11"
      ]
     },
     "execution_count": 73,
     "metadata": {},
     "output_type": "execute_result"
    }
   ],
   "source": [
    "date.month"
   ]
  },
  {
   "cell_type": "markdown",
   "id": "4bec9dbb",
   "metadata": {},
   "source": [
    "## Time Resampling"
   ]
  },
  {
   "cell_type": "code",
   "execution_count": 74,
   "id": "a1dc9a47",
   "metadata": {},
   "outputs": [
    {
     "data": {
      "text/html": [
       "<div>\n",
       "<style scoped>\n",
       "    .dataframe tbody tr th:only-of-type {\n",
       "        vertical-align: middle;\n",
       "    }\n",
       "\n",
       "    .dataframe tbody tr th {\n",
       "        vertical-align: top;\n",
       "    }\n",
       "\n",
       "    .dataframe thead th {\n",
       "        text-align: right;\n",
       "    }\n",
       "</style>\n",
       "<table border=\"1\" class=\"dataframe\">\n",
       "  <thead>\n",
       "    <tr style=\"text-align: right;\">\n",
       "      <th></th>\n",
       "      <th>High</th>\n",
       "      <th>Low</th>\n",
       "      <th>Open</th>\n",
       "      <th>Close</th>\n",
       "      <th>Volume</th>\n",
       "      <th>Adj Close</th>\n",
       "    </tr>\n",
       "    <tr>\n",
       "      <th>Date</th>\n",
       "      <th></th>\n",
       "      <th></th>\n",
       "      <th></th>\n",
       "      <th></th>\n",
       "      <th></th>\n",
       "      <th></th>\n",
       "    </tr>\n",
       "  </thead>\n",
       "  <tbody>\n",
       "    <tr>\n",
       "      <th>2017-02-27</th>\n",
       "      <td>49.672001</td>\n",
       "      <td>48.402000</td>\n",
       "      <td>49.633999</td>\n",
       "      <td>49.245998</td>\n",
       "      <td>57304000.0</td>\n",
       "      <td>49.245998</td>\n",
       "    </tr>\n",
       "    <tr>\n",
       "      <th>2017-02-28</th>\n",
       "      <td>50.200001</td>\n",
       "      <td>48.779999</td>\n",
       "      <td>48.838001</td>\n",
       "      <td>49.998001</td>\n",
       "      <td>30390500.0</td>\n",
       "      <td>49.998001</td>\n",
       "    </tr>\n",
       "    <tr>\n",
       "      <th>2017-03-01</th>\n",
       "      <td>50.970001</td>\n",
       "      <td>49.821999</td>\n",
       "      <td>50.835999</td>\n",
       "      <td>50.004002</td>\n",
       "      <td>24047500.0</td>\n",
       "      <td>50.004002</td>\n",
       "    </tr>\n",
       "    <tr>\n",
       "      <th>2017-03-02</th>\n",
       "      <td>50.655998</td>\n",
       "      <td>49.653999</td>\n",
       "      <td>49.942001</td>\n",
       "      <td>50.096001</td>\n",
       "      <td>16759000.0</td>\n",
       "      <td>50.096001</td>\n",
       "    </tr>\n",
       "    <tr>\n",
       "      <th>2017-03-03</th>\n",
       "      <td>50.380001</td>\n",
       "      <td>49.799999</td>\n",
       "      <td>50.147999</td>\n",
       "      <td>50.313999</td>\n",
       "      <td>14597000.0</td>\n",
       "      <td>50.313999</td>\n",
       "    </tr>\n",
       "  </tbody>\n",
       "</table>\n",
       "</div>"
      ],
      "text/plain": [
       "                 High        Low       Open      Close      Volume  Adj Close\n",
       "Date                                                                         \n",
       "2017-02-27  49.672001  48.402000  49.633999  49.245998  57304000.0  49.245998\n",
       "2017-02-28  50.200001  48.779999  48.838001  49.998001  30390500.0  49.998001\n",
       "2017-03-01  50.970001  49.821999  50.835999  50.004002  24047500.0  50.004002\n",
       "2017-03-02  50.655998  49.653999  49.942001  50.096001  16759000.0  50.096001\n",
       "2017-03-03  50.380001  49.799999  50.147999  50.313999  14597000.0  50.313999"
      ]
     },
     "execution_count": 74,
     "metadata": {},
     "output_type": "execute_result"
    }
   ],
   "source": [
    "df_tesla.head()"
   ]
  },
  {
   "cell_type": "code",
   "execution_count": 76,
   "id": "3a52fae8",
   "metadata": {},
   "outputs": [
    {
     "data": {
      "text/html": [
       "<div>\n",
       "<style scoped>\n",
       "    .dataframe tbody tr th:only-of-type {\n",
       "        vertical-align: middle;\n",
       "    }\n",
       "\n",
       "    .dataframe tbody tr th {\n",
       "        vertical-align: top;\n",
       "    }\n",
       "\n",
       "    .dataframe thead th {\n",
       "        text-align: right;\n",
       "    }\n",
       "</style>\n",
       "<table border=\"1\" class=\"dataframe\">\n",
       "  <thead>\n",
       "    <tr style=\"text-align: right;\">\n",
       "      <th></th>\n",
       "      <th>High</th>\n",
       "      <th>Low</th>\n",
       "      <th>Open</th>\n",
       "      <th>Close</th>\n",
       "      <th>Volume</th>\n",
       "      <th>Adj Close</th>\n",
       "    </tr>\n",
       "    <tr>\n",
       "      <th>Date</th>\n",
       "      <th></th>\n",
       "      <th></th>\n",
       "      <th></th>\n",
       "      <th></th>\n",
       "      <th></th>\n",
       "      <th></th>\n",
       "    </tr>\n",
       "  </thead>\n",
       "  <tbody>\n",
       "    <tr>\n",
       "      <th>2017-12-31</th>\n",
       "      <td>49.299999</td>\n",
       "      <td>48.402000</td>\n",
       "      <td>48.838001</td>\n",
       "      <td>48.737999</td>\n",
       "      <td>14597000.0</td>\n",
       "      <td>48.737999</td>\n",
       "    </tr>\n",
       "    <tr>\n",
       "      <th>2018-12-31</th>\n",
       "      <td>52.066002</td>\n",
       "      <td>48.917999</td>\n",
       "      <td>50.556000</td>\n",
       "      <td>50.112000</td>\n",
       "      <td>15403500.0</td>\n",
       "      <td>50.112000</td>\n",
       "    </tr>\n",
       "    <tr>\n",
       "      <th>2019-12-31</th>\n",
       "      <td>37.335999</td>\n",
       "      <td>35.397999</td>\n",
       "      <td>36.220001</td>\n",
       "      <td>35.793999</td>\n",
       "      <td>12328000.0</td>\n",
       "      <td>35.793999</td>\n",
       "    </tr>\n",
       "    <tr>\n",
       "      <th>2020-12-31</th>\n",
       "      <td>80.972000</td>\n",
       "      <td>70.101997</td>\n",
       "      <td>74.940002</td>\n",
       "      <td>72.244003</td>\n",
       "      <td>17357700.0</td>\n",
       "      <td>72.244003</td>\n",
       "    </tr>\n",
       "    <tr>\n",
       "      <th>2021-12-31</th>\n",
       "      <td>566.210022</td>\n",
       "      <td>539.489990</td>\n",
       "      <td>552.549988</td>\n",
       "      <td>563.000000</td>\n",
       "      <td>9800600.0</td>\n",
       "      <td>563.000000</td>\n",
       "    </tr>\n",
       "    <tr>\n",
       "      <th>2022-12-31</th>\n",
       "      <td>802.479980</td>\n",
       "      <td>700.000000</td>\n",
       "      <td>700.390015</td>\n",
       "      <td>764.039978</td>\n",
       "      <td>16909700.0</td>\n",
       "      <td>764.039978</td>\n",
       "    </tr>\n",
       "  </tbody>\n",
       "</table>\n",
       "</div>"
      ],
      "text/plain": [
       "                  High         Low        Open       Close      Volume  \\\n",
       "Date                                                                     \n",
       "2017-12-31   49.299999   48.402000   48.838001   48.737999  14597000.0   \n",
       "2018-12-31   52.066002   48.917999   50.556000   50.112000  15403500.0   \n",
       "2019-12-31   37.335999   35.397999   36.220001   35.793999  12328000.0   \n",
       "2020-12-31   80.972000   70.101997   74.940002   72.244003  17357700.0   \n",
       "2021-12-31  566.210022  539.489990  552.549988  563.000000   9800600.0   \n",
       "2022-12-31  802.479980  700.000000  700.390015  764.039978  16909700.0   \n",
       "\n",
       "             Adj Close  \n",
       "Date                    \n",
       "2017-12-31   48.737999  \n",
       "2018-12-31   50.112000  \n",
       "2019-12-31   35.793999  \n",
       "2020-12-31   72.244003  \n",
       "2021-12-31  563.000000  \n",
       "2022-12-31  764.039978  "
      ]
     },
     "execution_count": 76,
     "metadata": {},
     "output_type": "execute_result"
    }
   ],
   "source": [
    "df_tesla.resample(rule='A').min()"
   ]
  },
  {
   "cell_type": "code",
   "execution_count": 77,
   "id": "f6171bda",
   "metadata": {},
   "outputs": [
    {
     "data": {
      "text/html": [
       "<div>\n",
       "<style scoped>\n",
       "    .dataframe tbody tr th:only-of-type {\n",
       "        vertical-align: middle;\n",
       "    }\n",
       "\n",
       "    .dataframe tbody tr th {\n",
       "        vertical-align: top;\n",
       "    }\n",
       "\n",
       "    .dataframe thead th {\n",
       "        text-align: right;\n",
       "    }\n",
       "</style>\n",
       "<table border=\"1\" class=\"dataframe\">\n",
       "  <thead>\n",
       "    <tr style=\"text-align: right;\">\n",
       "      <th></th>\n",
       "      <th>High</th>\n",
       "      <th>Low</th>\n",
       "      <th>Open</th>\n",
       "      <th>Close</th>\n",
       "      <th>Volume</th>\n",
       "      <th>Adj Close</th>\n",
       "    </tr>\n",
       "    <tr>\n",
       "      <th>Date</th>\n",
       "      <th></th>\n",
       "      <th></th>\n",
       "      <th></th>\n",
       "      <th></th>\n",
       "      <th></th>\n",
       "      <th></th>\n",
       "    </tr>\n",
       "  </thead>\n",
       "  <tbody>\n",
       "    <tr>\n",
       "      <th>2017-12-31</th>\n",
       "      <td>77.921997</td>\n",
       "      <td>75.870003</td>\n",
       "      <td>77.337997</td>\n",
       "      <td>77.000000</td>\n",
       "      <td>98957000.0</td>\n",
       "      <td>77.000000</td>\n",
       "    </tr>\n",
       "    <tr>\n",
       "      <th>2018-12-31</th>\n",
       "      <td>77.491997</td>\n",
       "      <td>73.424004</td>\n",
       "      <td>75.000000</td>\n",
       "      <td>75.914001</td>\n",
       "      <td>168248500.0</td>\n",
       "      <td>75.914001</td>\n",
       "    </tr>\n",
       "    <tr>\n",
       "      <th>2019-12-31</th>\n",
       "      <td>87.061996</td>\n",
       "      <td>85.269997</td>\n",
       "      <td>87.000000</td>\n",
       "      <td>86.188004</td>\n",
       "      <td>150030500.0</td>\n",
       "      <td>86.188004</td>\n",
       "    </tr>\n",
       "    <tr>\n",
       "      <th>2020-12-31</th>\n",
       "      <td>718.719971</td>\n",
       "      <td>691.119995</td>\n",
       "      <td>699.989990</td>\n",
       "      <td>705.669983</td>\n",
       "      <td>304694000.0</td>\n",
       "      <td>705.669983</td>\n",
       "    </tr>\n",
       "    <tr>\n",
       "      <th>2021-12-31</th>\n",
       "      <td>1243.489990</td>\n",
       "      <td>1217.000000</td>\n",
       "      <td>1234.410034</td>\n",
       "      <td>1229.910034</td>\n",
       "      <td>89396500.0</td>\n",
       "      <td>1229.910034</td>\n",
       "    </tr>\n",
       "    <tr>\n",
       "      <th>2022-12-31</th>\n",
       "      <td>1208.000000</td>\n",
       "      <td>1136.040039</td>\n",
       "      <td>1189.550049</td>\n",
       "      <td>1199.780029</td>\n",
       "      <td>50521900.0</td>\n",
       "      <td>1199.780029</td>\n",
       "    </tr>\n",
       "  </tbody>\n",
       "</table>\n",
       "</div>"
      ],
      "text/plain": [
       "                   High          Low         Open        Close       Volume  \\\n",
       "Date                                                                          \n",
       "2017-12-31    77.921997    75.870003    77.337997    77.000000   98957000.0   \n",
       "2018-12-31    77.491997    73.424004    75.000000    75.914001  168248500.0   \n",
       "2019-12-31    87.061996    85.269997    87.000000    86.188004  150030500.0   \n",
       "2020-12-31   718.719971   691.119995   699.989990   705.669983  304694000.0   \n",
       "2021-12-31  1243.489990  1217.000000  1234.410034  1229.910034   89396500.0   \n",
       "2022-12-31  1208.000000  1136.040039  1189.550049  1199.780029   50521900.0   \n",
       "\n",
       "              Adj Close  \n",
       "Date                     \n",
       "2017-12-31    77.000000  \n",
       "2018-12-31    75.914001  \n",
       "2019-12-31    86.188004  \n",
       "2020-12-31   705.669983  \n",
       "2021-12-31  1229.910034  \n",
       "2022-12-31  1199.780029  "
      ]
     },
     "execution_count": 77,
     "metadata": {},
     "output_type": "execute_result"
    }
   ],
   "source": [
    "df_tesla.resample(rule='A').max()"
   ]
  },
  {
   "cell_type": "code",
   "execution_count": 79,
   "id": "6d8f06e8",
   "metadata": {},
   "outputs": [
    {
     "data": {
      "text/plain": [
       "<AxesSubplot:xlabel='Date'>"
      ]
     },
     "execution_count": 79,
     "metadata": {},
     "output_type": "execute_result"
    },
    {
     "data": {
      "image/png": "[encoded data removed]",
      "text/plain": [
       "<Figure size 432x288 with 1 Axes>"
      ]
     },
     "metadata": {
      "needs_background": "light"
     },
     "output_type": "display_data"
    }
   ],
   "source": [
    "##year end frequency\n",
    "df_tesla.resample(rule='A').max()['Open'].plot()"
   ]
  },
  {
   "cell_type": "code",
   "execution_count": 81,
   "id": "52eceae2",
   "metadata": {},
   "outputs": [
    {
     "data": {
      "text/plain": [
       "<AxesSubplot:xlabel='Date'>"
      ]
     },
     "execution_count": 81,
     "metadata": {},
     "output_type": "execute_result"
    },
    {
     "data": {
      "image/png": "[encoded data removed]",
      "text/plain": [
       "<Figure size 432x288 with 1 Axes>"
      ]
     },
     "metadata": {
      "needs_background": "light"
     },
     "output_type": "display_data"
    }
   ],
   "source": [
    "##quaterly start frequency\n",
    "##https://towardsdatascience.com/resample-function-of-pandas-79b17ec82a78\n",
    "df_tesla.resample(rule='QS').max()['High'].plot()"
   ]
  },
  {
   "cell_type": "code",
   "execution_count": 83,
   "id": "384d6d83",
   "metadata": {},
   "outputs": [
    {
     "data": {
      "text/html": [
       "<div>\n",
       "<style scoped>\n",
       "    .dataframe tbody tr th:only-of-type {\n",
       "        vertical-align: middle;\n",
       "    }\n",
       "\n",
       "    .dataframe tbody tr th {\n",
       "        vertical-align: top;\n",
       "    }\n",
       "\n",
       "    .dataframe thead th {\n",
       "        text-align: right;\n",
       "    }\n",
       "</style>\n",
       "<table border=\"1\" class=\"dataframe\">\n",
       "  <thead>\n",
       "    <tr style=\"text-align: right;\">\n",
       "      <th></th>\n",
       "      <th>High</th>\n",
       "      <th>Low</th>\n",
       "      <th>Open</th>\n",
       "      <th>Close</th>\n",
       "      <th>Volume</th>\n",
       "      <th>Adj Close</th>\n",
       "    </tr>\n",
       "    <tr>\n",
       "      <th>Date</th>\n",
       "      <th></th>\n",
       "      <th></th>\n",
       "      <th></th>\n",
       "      <th></th>\n",
       "      <th></th>\n",
       "      <th></th>\n",
       "    </tr>\n",
       "  </thead>\n",
       "  <tbody>\n",
       "    <tr>\n",
       "      <th>2017-12-29</th>\n",
       "      <td>77.921997</td>\n",
       "      <td>75.870003</td>\n",
       "      <td>77.337997</td>\n",
       "      <td>77.000000</td>\n",
       "      <td>98957000.0</td>\n",
       "      <td>77.000000</td>\n",
       "    </tr>\n",
       "    <tr>\n",
       "      <th>2018-12-31</th>\n",
       "      <td>77.491997</td>\n",
       "      <td>73.424004</td>\n",
       "      <td>75.000000</td>\n",
       "      <td>75.914001</td>\n",
       "      <td>168248500.0</td>\n",
       "      <td>75.914001</td>\n",
       "    </tr>\n",
       "    <tr>\n",
       "      <th>2019-12-31</th>\n",
       "      <td>87.061996</td>\n",
       "      <td>85.269997</td>\n",
       "      <td>87.000000</td>\n",
       "      <td>86.188004</td>\n",
       "      <td>150030500.0</td>\n",
       "      <td>86.188004</td>\n",
       "    </tr>\n",
       "    <tr>\n",
       "      <th>2020-12-31</th>\n",
       "      <td>718.719971</td>\n",
       "      <td>691.119995</td>\n",
       "      <td>699.989990</td>\n",
       "      <td>705.669983</td>\n",
       "      <td>304694000.0</td>\n",
       "      <td>705.669983</td>\n",
       "    </tr>\n",
       "    <tr>\n",
       "      <th>2021-12-31</th>\n",
       "      <td>1243.489990</td>\n",
       "      <td>1217.000000</td>\n",
       "      <td>1234.410034</td>\n",
       "      <td>1229.910034</td>\n",
       "      <td>89396500.0</td>\n",
       "      <td>1229.910034</td>\n",
       "    </tr>\n",
       "    <tr>\n",
       "      <th>2022-12-30</th>\n",
       "      <td>1208.000000</td>\n",
       "      <td>1136.040039</td>\n",
       "      <td>1189.550049</td>\n",
       "      <td>1199.780029</td>\n",
       "      <td>50521900.0</td>\n",
       "      <td>1199.780029</td>\n",
       "    </tr>\n",
       "  </tbody>\n",
       "</table>\n",
       "</div>"
      ],
      "text/plain": [
       "                   High          Low         Open        Close       Volume  \\\n",
       "Date                                                                          \n",
       "2017-12-29    77.921997    75.870003    77.337997    77.000000   98957000.0   \n",
       "2018-12-31    77.491997    73.424004    75.000000    75.914001  168248500.0   \n",
       "2019-12-31    87.061996    85.269997    87.000000    86.188004  150030500.0   \n",
       "2020-12-31   718.719971   691.119995   699.989990   705.669983  304694000.0   \n",
       "2021-12-31  1243.489990  1217.000000  1234.410034  1229.910034   89396500.0   \n",
       "2022-12-30  1208.000000  1136.040039  1189.550049  1199.780029   50521900.0   \n",
       "\n",
       "              Adj Close  \n",
       "Date                     \n",
       "2017-12-29    77.000000  \n",
       "2018-12-31    75.914001  \n",
       "2019-12-31    86.188004  \n",
       "2020-12-31   705.669983  \n",
       "2021-12-31  1229.910034  \n",
       "2022-12-30  1199.780029  "
      ]
     },
     "execution_count": 83,
     "metadata": {},
     "output_type": "execute_result"
    }
   ],
   "source": [
    "##Business End Frequency\n",
    "##https://towardsdatascience.com/resample-function-of-pandas-79b17ec82a78\n",
    "df_tesla.resample(rule='BA').max()"
   ]
  },
  {
   "cell_type": "code",
   "execution_count": 84,
   "id": "0820f1b7",
   "metadata": {},
   "outputs": [
    {
     "data": {
      "text/html": [
       "<div>\n",
       "<style scoped>\n",
       "    .dataframe tbody tr th:only-of-type {\n",
       "        vertical-align: middle;\n",
       "    }\n",
       "\n",
       "    .dataframe tbody tr th {\n",
       "        vertical-align: top;\n",
       "    }\n",
       "\n",
       "    .dataframe thead th {\n",
       "        text-align: right;\n",
       "    }\n",
       "</style>\n",
       "<table border=\"1\" class=\"dataframe\">\n",
       "  <thead>\n",
       "    <tr style=\"text-align: right;\">\n",
       "      <th></th>\n",
       "      <th>High</th>\n",
       "      <th>Low</th>\n",
       "      <th>Open</th>\n",
       "      <th>Close</th>\n",
       "      <th>Volume</th>\n",
       "      <th>Adj Close</th>\n",
       "    </tr>\n",
       "    <tr>\n",
       "      <th>Date</th>\n",
       "      <th></th>\n",
       "      <th></th>\n",
       "      <th></th>\n",
       "      <th></th>\n",
       "      <th></th>\n",
       "      <th></th>\n",
       "    </tr>\n",
       "  </thead>\n",
       "  <tbody>\n",
       "    <tr>\n",
       "      <th>2017-01-02</th>\n",
       "      <td>56.400002</td>\n",
       "      <td>55.442001</td>\n",
       "      <td>55.745998</td>\n",
       "      <td>55.660000</td>\n",
       "      <td>57304000.0</td>\n",
       "      <td>55.660000</td>\n",
       "    </tr>\n",
       "    <tr>\n",
       "      <th>2017-04-03</th>\n",
       "      <td>77.398003</td>\n",
       "      <td>75.870003</td>\n",
       "      <td>77.337997</td>\n",
       "      <td>76.690002</td>\n",
       "      <td>86307000.0</td>\n",
       "      <td>76.690002</td>\n",
       "    </tr>\n",
       "    <tr>\n",
       "      <th>2017-07-03</th>\n",
       "      <td>77.921997</td>\n",
       "      <td>75.536003</td>\n",
       "      <td>76.050003</td>\n",
       "      <td>77.000000</td>\n",
       "      <td>96622500.0</td>\n",
       "      <td>77.000000</td>\n",
       "    </tr>\n",
       "    <tr>\n",
       "      <th>2017-10-02</th>\n",
       "      <td>72.599998</td>\n",
       "      <td>70.825996</td>\n",
       "      <td>71.396004</td>\n",
       "      <td>71.930000</td>\n",
       "      <td>98957000.0</td>\n",
       "      <td>71.930000</td>\n",
       "    </tr>\n",
       "    <tr>\n",
       "      <th>2018-01-01</th>\n",
       "      <td>72.099998</td>\n",
       "      <td>70.472000</td>\n",
       "      <td>72.000000</td>\n",
       "      <td>71.484001</td>\n",
       "      <td>105007000.0</td>\n",
       "      <td>71.484001</td>\n",
       "    </tr>\n",
       "    <tr>\n",
       "      <th>2018-04-02</th>\n",
       "      <td>74.746002</td>\n",
       "      <td>70.900002</td>\n",
       "      <td>73.031998</td>\n",
       "      <td>74.166000</td>\n",
       "      <td>111737000.0</td>\n",
       "      <td>74.166000</td>\n",
       "    </tr>\n",
       "    <tr>\n",
       "      <th>2018-07-02</th>\n",
       "      <td>77.491997</td>\n",
       "      <td>73.424004</td>\n",
       "      <td>73.818001</td>\n",
       "      <td>75.914001</td>\n",
       "      <td>168248500.0</td>\n",
       "      <td>75.914001</td>\n",
       "    </tr>\n",
       "    <tr>\n",
       "      <th>2018-10-01</th>\n",
       "      <td>75.898003</td>\n",
       "      <td>73.349998</td>\n",
       "      <td>75.000000</td>\n",
       "      <td>75.358002</td>\n",
       "      <td>137127500.0</td>\n",
       "      <td>75.358002</td>\n",
       "    </tr>\n",
       "    <tr>\n",
       "      <th>2019-01-01</th>\n",
       "      <td>70.400002</td>\n",
       "      <td>68.830002</td>\n",
       "      <td>69.241997</td>\n",
       "      <td>69.461998</td>\n",
       "      <td>120754000.0</td>\n",
       "      <td>69.461998</td>\n",
       "    </tr>\n",
       "    <tr>\n",
       "      <th>2019-04-01</th>\n",
       "      <td>59.234001</td>\n",
       "      <td>57.433998</td>\n",
       "      <td>57.660000</td>\n",
       "      <td>58.362000</td>\n",
       "      <td>132735500.0</td>\n",
       "      <td>58.362000</td>\n",
       "    </tr>\n",
       "    <tr>\n",
       "      <th>2019-07-01</th>\n",
       "      <td>53.214001</td>\n",
       "      <td>51.632000</td>\n",
       "      <td>51.834000</td>\n",
       "      <td>52.976002</td>\n",
       "      <td>112091500.0</td>\n",
       "      <td>52.976002</td>\n",
       "    </tr>\n",
       "    <tr>\n",
       "      <th>2019-10-01</th>\n",
       "      <td>87.061996</td>\n",
       "      <td>85.269997</td>\n",
       "      <td>87.000000</td>\n",
       "      <td>86.188004</td>\n",
       "      <td>150030500.0</td>\n",
       "      <td>86.188004</td>\n",
       "    </tr>\n",
       "    <tr>\n",
       "      <th>2020-01-01</th>\n",
       "      <td>193.798004</td>\n",
       "      <td>180.203995</td>\n",
       "      <td>184.699997</td>\n",
       "      <td>183.483994</td>\n",
       "      <td>304694000.0</td>\n",
       "      <td>183.483994</td>\n",
       "    </tr>\n",
       "    <tr>\n",
       "      <th>2020-04-01</th>\n",
       "      <td>217.537994</td>\n",
       "      <td>200.746002</td>\n",
       "      <td>202.556000</td>\n",
       "      <td>215.962006</td>\n",
       "      <td>162659000.0</td>\n",
       "      <td>215.962006</td>\n",
       "    </tr>\n",
       "    <tr>\n",
       "      <th>2020-07-01</th>\n",
       "      <td>502.489990</td>\n",
       "      <td>470.510010</td>\n",
       "      <td>502.140015</td>\n",
       "      <td>498.320007</td>\n",
       "      <td>194927000.0</td>\n",
       "      <td>498.320007</td>\n",
       "    </tr>\n",
       "    <tr>\n",
       "      <th>2020-10-01</th>\n",
       "      <td>718.719971</td>\n",
       "      <td>691.119995</td>\n",
       "      <td>699.989990</td>\n",
       "      <td>705.669983</td>\n",
       "      <td>222126200.0</td>\n",
       "      <td>705.669983</td>\n",
       "    </tr>\n",
       "    <tr>\n",
       "      <th>2021-01-01</th>\n",
       "      <td>900.400024</td>\n",
       "      <td>871.599976</td>\n",
       "      <td>891.380005</td>\n",
       "      <td>883.090027</td>\n",
       "      <td>89396500.0</td>\n",
       "      <td>883.090027</td>\n",
       "    </tr>\n",
       "    <tr>\n",
       "      <th>2021-04-01</th>\n",
       "      <td>780.789978</td>\n",
       "      <td>732.609985</td>\n",
       "      <td>770.700012</td>\n",
       "      <td>762.320007</td>\n",
       "      <td>49017400.0</td>\n",
       "      <td>762.320007</td>\n",
       "    </tr>\n",
       "    <tr>\n",
       "      <th>2021-07-01</th>\n",
       "      <td>799.000000</td>\n",
       "      <td>775.000000</td>\n",
       "      <td>787.200012</td>\n",
       "      <td>791.359985</td>\n",
       "      <td>33615800.0</td>\n",
       "      <td>791.359985</td>\n",
       "    </tr>\n",
       "    <tr>\n",
       "      <th>2021-10-01</th>\n",
       "      <td>1243.489990</td>\n",
       "      <td>1217.000000</td>\n",
       "      <td>1234.410034</td>\n",
       "      <td>1229.910034</td>\n",
       "      <td>62852100.0</td>\n",
       "      <td>1229.910034</td>\n",
       "    </tr>\n",
       "    <tr>\n",
       "      <th>2022-01-03</th>\n",
       "      <td>1208.000000</td>\n",
       "      <td>1136.040039</td>\n",
       "      <td>1189.550049</td>\n",
       "      <td>1199.780029</td>\n",
       "      <td>50521900.0</td>\n",
       "      <td>1199.780029</td>\n",
       "    </tr>\n",
       "  </tbody>\n",
       "</table>\n",
       "</div>"
      ],
      "text/plain": [
       "                   High          Low         Open        Close       Volume  \\\n",
       "Date                                                                          \n",
       "2017-01-02    56.400002    55.442001    55.745998    55.660000   57304000.0   \n",
       "2017-04-03    77.398003    75.870003    77.337997    76.690002   86307000.0   \n",
       "2017-07-03    77.921997    75.536003    76.050003    77.000000   96622500.0   \n",
       "2017-10-02    72.599998    70.825996    71.396004    71.930000   98957000.0   \n",
       "2018-01-01    72.099998    70.472000    72.000000    71.484001  105007000.0   \n",
       "2018-04-02    74.746002    70.900002    73.031998    74.166000  111737000.0   \n",
       "2018-07-02    77.491997    73.424004    73.818001    75.914001  168248500.0   \n",
       "2018-10-01    75.898003    73.349998    75.000000    75.358002  137127500.0   \n",
       "2019-01-01    70.400002    68.830002    69.241997    69.461998  120754000.0   \n",
       "2019-04-01    59.234001    57.433998    57.660000    58.362000  132735500.0   \n",
       "2019-07-01    53.214001    51.632000    51.834000    52.976002  112091500.0   \n",
       "2019-10-01    87.061996    85.269997    87.000000    86.188004  150030500.0   \n",
       "2020-01-01   193.798004   180.203995   184.699997   183.483994  304694000.0   \n",
       "2020-04-01   217.537994   200.746002   202.556000   215.962006  162659000.0   \n",
       "2020-07-01   502.489990   470.510010   502.140015   498.320007  194927000.0   \n",
       "2020-10-01   718.719971   691.119995   699.989990   705.669983  222126200.0   \n",
       "2021-01-01   900.400024   871.599976   891.380005   883.090027   89396500.0   \n",
       "2021-04-01   780.789978   732.609985   770.700012   762.320007   49017400.0   \n",
       "2021-07-01   799.000000   775.000000   787.200012   791.359985   33615800.0   \n",
       "2021-10-01  1243.489990  1217.000000  1234.410034  1229.910034   62852100.0   \n",
       "2022-01-03  1208.000000  1136.040039  1189.550049  1199.780029   50521900.0   \n",
       "\n",
       "              Adj Close  \n",
       "Date                     \n",
       "2017-01-02    55.660000  \n",
       "2017-04-03    76.690002  \n",
       "2017-07-03    77.000000  \n",
       "2017-10-02    71.930000  \n",
       "2018-01-01    71.484001  \n",
       "2018-04-02    74.166000  \n",
       "2018-07-02    75.914001  \n",
       "2018-10-01    75.358002  \n",
       "2019-01-01    69.461998  \n",
       "2019-04-01    58.362000  \n",
       "2019-07-01    52.976002  \n",
       "2019-10-01    86.188004  \n",
       "2020-01-01   183.483994  \n",
       "2020-04-01   215.962006  \n",
       "2020-07-01   498.320007  \n",
       "2020-10-01   705.669983  \n",
       "2021-01-01   883.090027  \n",
       "2021-04-01   762.320007  \n",
       "2021-07-01   791.359985  \n",
       "2021-10-01  1229.910034  \n",
       "2022-01-03  1199.780029  "
      ]
     },
     "execution_count": 84,
     "metadata": {},
     "output_type": "execute_result"
    }
   ],
   "source": [
    "df_tesla.resample(rule='BQS').max()"
   ]
  },
  {
   "cell_type": "code",
   "execution_count": 87,
   "id": "8b259548",
   "metadata": {},
   "outputs": [
    {
     "data": {
      "text/plain": [
       "<AxesSubplot:xlabel='Date'>"
      ]
     },
     "execution_count": 87,
     "metadata": {},
     "output_type": "execute_result"
    },
    {
     "data": {
      "image/png": "[encoded data removed]",
      "text/plain": [
       "<Figure size 432x288 with 1 Axes>"
      ]
     },
     "metadata": {
      "needs_background": "light"
     },
     "output_type": "display_data"
    }
   ],
   "source": [
    "##plotting\n",
    "df_tesla['Open'].resample(rule='A').mean().plot(kind='bar')"
   ]
  },
  {
   "cell_type": "code",
   "execution_count": 92,
   "id": "843faaac",
   "metadata": {},
   "outputs": [
    {
     "data": {
      "text/plain": [
       "<AxesSubplot:xlabel='Date'>"
      ]
     },
     "execution_count": 92,
     "metadata": {},
     "output_type": "execute_result"
    },
    {
     "data": {
      "image/png": "[encoded data removed]",
      "text/plain": [
       "<Figure size 1080x432 with 1 Axes>"
      ]
     },
     "metadata": {
      "needs_background": "light"
     },
     "output_type": "display_data"
    }
   ],
   "source": [
    "df_tesla['Open'].resample(rule='M').max().plot(kind='bar',figsize=(15,6))"
   ]
  },
  {
   "cell_type": "code",
   "execution_count": 100,
   "id": "ba11eeb4",
   "metadata": {},
   "outputs": [
    {
     "data": {
      "text/plain": [
       "Date\n",
       "2017-02-27          NaN\n",
       "2017-02-28          NaN\n",
       "2017-03-01          NaN\n",
       "2017-03-02          NaN\n",
       "2017-03-03          NaN\n",
       "2017-03-06          NaN\n",
       "2017-03-07          NaN\n",
       "2017-03-08          NaN\n",
       "2017-03-09          NaN\n",
       "2017-03-10          NaN\n",
       "2017-03-13    50.970001\n",
       "2017-03-14    51.624001\n",
       "2017-03-15    52.200001\n",
       "2017-03-16    53.150002\n",
       "2017-03-17    53.150002\n",
       "2017-03-20    53.150002\n",
       "2017-03-21    53.150002\n",
       "2017-03-22    53.150002\n",
       "2017-03-23    53.150002\n",
       "2017-03-24    53.150002\n",
       "Name: High, dtype: float64"
      ]
     },
     "execution_count": 100,
     "metadata": {},
     "output_type": "execute_result"
    }
   ],
   "source": [
    "df_tesla['High'].rolling(11).max().head(20)"
   ]
  },
  {
   "cell_type": "code",
   "execution_count": 97,
   "id": "1507d710",
   "metadata": {},
   "outputs": [
    {
     "data": {
      "text/html": [
       "<div>\n",
       "<style scoped>\n",
       "    .dataframe tbody tr th:only-of-type {\n",
       "        vertical-align: middle;\n",
       "    }\n",
       "\n",
       "    .dataframe tbody tr th {\n",
       "        vertical-align: top;\n",
       "    }\n",
       "\n",
       "    .dataframe thead th {\n",
       "        text-align: right;\n",
       "    }\n",
       "</style>\n",
       "<table border=\"1\" class=\"dataframe\">\n",
       "  <thead>\n",
       "    <tr style=\"text-align: right;\">\n",
       "      <th></th>\n",
       "      <th>High</th>\n",
       "      <th>Low</th>\n",
       "      <th>Open</th>\n",
       "      <th>Close</th>\n",
       "      <th>Volume</th>\n",
       "      <th>Adj Close</th>\n",
       "    </tr>\n",
       "    <tr>\n",
       "      <th>Date</th>\n",
       "      <th></th>\n",
       "      <th></th>\n",
       "      <th></th>\n",
       "      <th></th>\n",
       "      <th></th>\n",
       "      <th></th>\n",
       "    </tr>\n",
       "  </thead>\n",
       "  <tbody>\n",
       "    <tr>\n",
       "      <th>2017-02-27</th>\n",
       "      <td>49.672001</td>\n",
       "      <td>48.402000</td>\n",
       "      <td>49.633999</td>\n",
       "      <td>49.245998</td>\n",
       "      <td>57304000.0</td>\n",
       "      <td>49.245998</td>\n",
       "    </tr>\n",
       "    <tr>\n",
       "      <th>2017-02-28</th>\n",
       "      <td>50.200001</td>\n",
       "      <td>48.779999</td>\n",
       "      <td>48.838001</td>\n",
       "      <td>49.998001</td>\n",
       "      <td>30390500.0</td>\n",
       "      <td>49.998001</td>\n",
       "    </tr>\n",
       "    <tr>\n",
       "      <th>2017-03-01</th>\n",
       "      <td>50.970001</td>\n",
       "      <td>49.821999</td>\n",
       "      <td>50.835999</td>\n",
       "      <td>50.004002</td>\n",
       "      <td>24047500.0</td>\n",
       "      <td>50.004002</td>\n",
       "    </tr>\n",
       "    <tr>\n",
       "      <th>2017-03-02</th>\n",
       "      <td>50.655998</td>\n",
       "      <td>49.653999</td>\n",
       "      <td>49.942001</td>\n",
       "      <td>50.096001</td>\n",
       "      <td>16759000.0</td>\n",
       "      <td>50.096001</td>\n",
       "    </tr>\n",
       "    <tr>\n",
       "      <th>2017-03-03</th>\n",
       "      <td>50.380001</td>\n",
       "      <td>49.799999</td>\n",
       "      <td>50.147999</td>\n",
       "      <td>50.313999</td>\n",
       "      <td>14597000.0</td>\n",
       "      <td>50.313999</td>\n",
       "    </tr>\n",
       "  </tbody>\n",
       "</table>\n",
       "</div>"
      ],
      "text/plain": [
       "                 High        Low       Open      Close      Volume  Adj Close\n",
       "Date                                                                         \n",
       "2017-02-27  49.672001  48.402000  49.633999  49.245998  57304000.0  49.245998\n",
       "2017-02-28  50.200001  48.779999  48.838001  49.998001  30390500.0  49.998001\n",
       "2017-03-01  50.970001  49.821999  50.835999  50.004002  24047500.0  50.004002\n",
       "2017-03-02  50.655998  49.653999  49.942001  50.096001  16759000.0  50.096001\n",
       "2017-03-03  50.380001  49.799999  50.147999  50.313999  14597000.0  50.313999"
      ]
     },
     "execution_count": 97,
     "metadata": {},
     "output_type": "execute_result"
    }
   ],
   "source": [
    "df_tesla.head()"
   ]
  },
  {
   "cell_type": "code",
   "execution_count": 101,
   "id": "f51c43cc",
   "metadata": {},
   "outputs": [],
   "source": [
    "df_tesla['Open:30 days rolling']=df_tesla['Open'].rolling(30).mean()"
   ]
  },
  {
   "cell_type": "code",
   "execution_count": 104,
   "id": "b8275481",
   "metadata": {},
   "outputs": [
    {
     "data": {
      "text/html": [
       "<div>\n",
       "<style scoped>\n",
       "    .dataframe tbody tr th:only-of-type {\n",
       "        vertical-align: middle;\n",
       "    }\n",
       "\n",
       "    .dataframe tbody tr th {\n",
       "        vertical-align: top;\n",
       "    }\n",
       "\n",
       "    .dataframe thead th {\n",
       "        text-align: right;\n",
       "    }\n",
       "</style>\n",
       "<table border=\"1\" class=\"dataframe\">\n",
       "  <thead>\n",
       "    <tr style=\"text-align: right;\">\n",
       "      <th></th>\n",
       "      <th>High</th>\n",
       "      <th>Low</th>\n",
       "      <th>Open</th>\n",
       "      <th>Close</th>\n",
       "      <th>Volume</th>\n",
       "      <th>Adj Close</th>\n",
       "      <th>Open:30 days rolling</th>\n",
       "    </tr>\n",
       "    <tr>\n",
       "      <th>Date</th>\n",
       "      <th></th>\n",
       "      <th></th>\n",
       "      <th></th>\n",
       "      <th></th>\n",
       "      <th></th>\n",
       "      <th></th>\n",
       "      <th></th>\n",
       "    </tr>\n",
       "  </thead>\n",
       "  <tbody>\n",
       "    <tr>\n",
       "      <th>2017-02-27</th>\n",
       "      <td>49.672001</td>\n",
       "      <td>48.402000</td>\n",
       "      <td>49.633999</td>\n",
       "      <td>49.245998</td>\n",
       "      <td>57304000.0</td>\n",
       "      <td>49.245998</td>\n",
       "      <td>NaN</td>\n",
       "    </tr>\n",
       "    <tr>\n",
       "      <th>2017-02-28</th>\n",
       "      <td>50.200001</td>\n",
       "      <td>48.779999</td>\n",
       "      <td>48.838001</td>\n",
       "      <td>49.998001</td>\n",
       "      <td>30390500.0</td>\n",
       "      <td>49.998001</td>\n",
       "      <td>NaN</td>\n",
       "    </tr>\n",
       "    <tr>\n",
       "      <th>2017-03-01</th>\n",
       "      <td>50.970001</td>\n",
       "      <td>49.821999</td>\n",
       "      <td>50.835999</td>\n",
       "      <td>50.004002</td>\n",
       "      <td>24047500.0</td>\n",
       "      <td>50.004002</td>\n",
       "      <td>NaN</td>\n",
       "    </tr>\n",
       "    <tr>\n",
       "      <th>2017-03-02</th>\n",
       "      <td>50.655998</td>\n",
       "      <td>49.653999</td>\n",
       "      <td>49.942001</td>\n",
       "      <td>50.096001</td>\n",
       "      <td>16759000.0</td>\n",
       "      <td>50.096001</td>\n",
       "      <td>NaN</td>\n",
       "    </tr>\n",
       "    <tr>\n",
       "      <th>2017-03-03</th>\n",
       "      <td>50.380001</td>\n",
       "      <td>49.799999</td>\n",
       "      <td>50.147999</td>\n",
       "      <td>50.313999</td>\n",
       "      <td>14597000.0</td>\n",
       "      <td>50.313999</td>\n",
       "      <td>NaN</td>\n",
       "    </tr>\n",
       "    <tr>\n",
       "      <th>2017-03-06</th>\n",
       "      <td>50.340000</td>\n",
       "      <td>49.501999</td>\n",
       "      <td>49.582001</td>\n",
       "      <td>50.242001</td>\n",
       "      <td>16777500.0</td>\n",
       "      <td>50.242001</td>\n",
       "      <td>NaN</td>\n",
       "    </tr>\n",
       "    <tr>\n",
       "      <th>2017-03-07</th>\n",
       "      <td>50.778000</td>\n",
       "      <td>49.664001</td>\n",
       "      <td>50.383999</td>\n",
       "      <td>49.717999</td>\n",
       "      <td>17297500.0</td>\n",
       "      <td>49.717999</td>\n",
       "      <td>NaN</td>\n",
       "    </tr>\n",
       "    <tr>\n",
       "      <th>2017-03-08</th>\n",
       "      <td>50.014000</td>\n",
       "      <td>49.063999</td>\n",
       "      <td>49.400002</td>\n",
       "      <td>49.374001</td>\n",
       "      <td>18626000.0</td>\n",
       "      <td>49.374001</td>\n",
       "      <td>NaN</td>\n",
       "    </tr>\n",
       "    <tr>\n",
       "      <th>2017-03-09</th>\n",
       "      <td>49.731998</td>\n",
       "      <td>48.599998</td>\n",
       "      <td>49.526001</td>\n",
       "      <td>48.980000</td>\n",
       "      <td>19396500.0</td>\n",
       "      <td>48.980000</td>\n",
       "      <td>NaN</td>\n",
       "    </tr>\n",
       "    <tr>\n",
       "      <th>2017-03-10</th>\n",
       "      <td>49.299999</td>\n",
       "      <td>48.599998</td>\n",
       "      <td>49.242001</td>\n",
       "      <td>48.737999</td>\n",
       "      <td>15331500.0</td>\n",
       "      <td>48.737999</td>\n",
       "      <td>NaN</td>\n",
       "    </tr>\n",
       "    <tr>\n",
       "      <th>2017-03-13</th>\n",
       "      <td>49.369999</td>\n",
       "      <td>48.556000</td>\n",
       "      <td>48.964001</td>\n",
       "      <td>49.234001</td>\n",
       "      <td>15113000.0</td>\n",
       "      <td>49.234001</td>\n",
       "      <td>NaN</td>\n",
       "    </tr>\n",
       "    <tr>\n",
       "      <th>2017-03-14</th>\n",
       "      <td>51.624001</td>\n",
       "      <td>49.203999</td>\n",
       "      <td>49.222000</td>\n",
       "      <td>51.599998</td>\n",
       "      <td>37992000.0</td>\n",
       "      <td>51.599998</td>\n",
       "      <td>NaN</td>\n",
       "    </tr>\n",
       "    <tr>\n",
       "      <th>2017-03-15</th>\n",
       "      <td>52.200001</td>\n",
       "      <td>50.854000</td>\n",
       "      <td>51.400002</td>\n",
       "      <td>51.146000</td>\n",
       "      <td>26654000.0</td>\n",
       "      <td>51.146000</td>\n",
       "      <td>NaN</td>\n",
       "    </tr>\n",
       "    <tr>\n",
       "      <th>2017-03-16</th>\n",
       "      <td>53.150002</td>\n",
       "      <td>51.812000</td>\n",
       "      <td>52.480000</td>\n",
       "      <td>52.410000</td>\n",
       "      <td>35661000.0</td>\n",
       "      <td>52.410000</td>\n",
       "      <td>NaN</td>\n",
       "    </tr>\n",
       "    <tr>\n",
       "      <th>2017-03-17</th>\n",
       "      <td>53.066002</td>\n",
       "      <td>52.240002</td>\n",
       "      <td>52.799999</td>\n",
       "      <td>52.299999</td>\n",
       "      <td>32487500.0</td>\n",
       "      <td>52.299999</td>\n",
       "      <td>NaN</td>\n",
       "    </tr>\n",
       "    <tr>\n",
       "      <th>2017-03-20</th>\n",
       "      <td>52.910000</td>\n",
       "      <td>51.764000</td>\n",
       "      <td>52.119999</td>\n",
       "      <td>52.383999</td>\n",
       "      <td>18071500.0</td>\n",
       "      <td>52.383999</td>\n",
       "      <td>NaN</td>\n",
       "    </tr>\n",
       "    <tr>\n",
       "      <th>2017-03-21</th>\n",
       "      <td>52.959999</td>\n",
       "      <td>50.048000</td>\n",
       "      <td>52.566002</td>\n",
       "      <td>50.136002</td>\n",
       "      <td>34543000.0</td>\n",
       "      <td>50.136002</td>\n",
       "      <td>NaN</td>\n",
       "    </tr>\n",
       "    <tr>\n",
       "      <th>2017-03-22</th>\n",
       "      <td>51.014000</td>\n",
       "      <td>50.102001</td>\n",
       "      <td>50.312000</td>\n",
       "      <td>51.001999</td>\n",
       "      <td>20296500.0</td>\n",
       "      <td>51.001999</td>\n",
       "      <td>NaN</td>\n",
       "    </tr>\n",
       "    <tr>\n",
       "      <th>2017-03-23</th>\n",
       "      <td>51.534000</td>\n",
       "      <td>50.660000</td>\n",
       "      <td>51.077999</td>\n",
       "      <td>50.956001</td>\n",
       "      <td>16601000.0</td>\n",
       "      <td>50.956001</td>\n",
       "      <td>NaN</td>\n",
       "    </tr>\n",
       "    <tr>\n",
       "      <th>2017-03-24</th>\n",
       "      <td>52.778000</td>\n",
       "      <td>51.001999</td>\n",
       "      <td>51.139999</td>\n",
       "      <td>52.632000</td>\n",
       "      <td>28236500.0</td>\n",
       "      <td>52.632000</td>\n",
       "      <td>NaN</td>\n",
       "    </tr>\n",
       "    <tr>\n",
       "      <th>2017-03-27</th>\n",
       "      <td>54.113998</td>\n",
       "      <td>51.950001</td>\n",
       "      <td>52.119999</td>\n",
       "      <td>54.043999</td>\n",
       "      <td>31154000.0</td>\n",
       "      <td>54.043999</td>\n",
       "      <td>NaN</td>\n",
       "    </tr>\n",
       "    <tr>\n",
       "      <th>2017-03-28</th>\n",
       "      <td>56.136002</td>\n",
       "      <td>55.000000</td>\n",
       "      <td>55.403999</td>\n",
       "      <td>55.490002</td>\n",
       "      <td>39938000.0</td>\n",
       "      <td>55.490002</td>\n",
       "      <td>NaN</td>\n",
       "    </tr>\n",
       "    <tr>\n",
       "      <th>2017-03-29</th>\n",
       "      <td>55.919998</td>\n",
       "      <td>55.108002</td>\n",
       "      <td>55.667999</td>\n",
       "      <td>55.476002</td>\n",
       "      <td>18381000.0</td>\n",
       "      <td>55.476002</td>\n",
       "      <td>NaN</td>\n",
       "    </tr>\n",
       "    <tr>\n",
       "      <th>2017-03-30</th>\n",
       "      <td>56.400002</td>\n",
       "      <td>55.442001</td>\n",
       "      <td>55.608002</td>\n",
       "      <td>55.584000</td>\n",
       "      <td>20742000.0</td>\n",
       "      <td>55.584000</td>\n",
       "      <td>NaN</td>\n",
       "    </tr>\n",
       "    <tr>\n",
       "      <th>2017-03-31</th>\n",
       "      <td>55.936001</td>\n",
       "      <td>55.264000</td>\n",
       "      <td>55.745998</td>\n",
       "      <td>55.660000</td>\n",
       "      <td>16473000.0</td>\n",
       "      <td>55.660000</td>\n",
       "      <td>NaN</td>\n",
       "    </tr>\n",
       "    <tr>\n",
       "      <th>2017-04-03</th>\n",
       "      <td>59.799999</td>\n",
       "      <td>56.916000</td>\n",
       "      <td>57.380001</td>\n",
       "      <td>59.703999</td>\n",
       "      <td>69443000.0</td>\n",
       "      <td>59.703999</td>\n",
       "      <td>NaN</td>\n",
       "    </tr>\n",
       "    <tr>\n",
       "      <th>2017-04-04</th>\n",
       "      <td>60.962002</td>\n",
       "      <td>58.905998</td>\n",
       "      <td>59.377998</td>\n",
       "      <td>60.740002</td>\n",
       "      <td>50673000.0</td>\n",
       "      <td>60.740002</td>\n",
       "      <td>NaN</td>\n",
       "    </tr>\n",
       "    <tr>\n",
       "      <th>2017-04-05</th>\n",
       "      <td>60.976002</td>\n",
       "      <td>58.840000</td>\n",
       "      <td>60.408001</td>\n",
       "      <td>59.000000</td>\n",
       "      <td>39404500.0</td>\n",
       "      <td>59.000000</td>\n",
       "      <td>NaN</td>\n",
       "    </tr>\n",
       "    <tr>\n",
       "      <th>2017-04-06</th>\n",
       "      <td>60.388000</td>\n",
       "      <td>58.820000</td>\n",
       "      <td>59.375999</td>\n",
       "      <td>59.740002</td>\n",
       "      <td>27603000.0</td>\n",
       "      <td>59.740002</td>\n",
       "      <td>NaN</td>\n",
       "    </tr>\n",
       "    <tr>\n",
       "      <th>2017-04-07</th>\n",
       "      <td>60.537998</td>\n",
       "      <td>59.430000</td>\n",
       "      <td>59.500000</td>\n",
       "      <td>60.507999</td>\n",
       "      <td>22898000.0</td>\n",
       "      <td>60.507999</td>\n",
       "      <td>52.673400</td>\n",
       "    </tr>\n",
       "    <tr>\n",
       "      <th>2017-04-10</th>\n",
       "      <td>62.745998</td>\n",
       "      <td>61.742001</td>\n",
       "      <td>61.830002</td>\n",
       "      <td>62.478001</td>\n",
       "      <td>38322500.0</td>\n",
       "      <td>62.478001</td>\n",
       "      <td>53.079933</td>\n",
       "    </tr>\n",
       "  </tbody>\n",
       "</table>\n",
       "</div>"
      ],
      "text/plain": [
       "                 High        Low       Open      Close      Volume  Adj Close  \\\n",
       "Date                                                                            \n",
       "2017-02-27  49.672001  48.402000  49.633999  49.245998  57304000.0  49.245998   \n",
       "2017-02-28  50.200001  48.779999  48.838001  49.998001  30390500.0  49.998001   \n",
       "2017-03-01  50.970001  49.821999  50.835999  50.004002  24047500.0  50.004002   \n",
       "2017-03-02  50.655998  49.653999  49.942001  50.096001  16759000.0  50.096001   \n",
       "2017-03-03  50.380001  49.799999  50.147999  50.313999  14597000.0  50.313999   \n",
       "2017-03-06  50.340000  49.501999  49.582001  50.242001  16777500.0  50.242001   \n",
       "2017-03-07  50.778000  49.664001  50.383999  49.717999  17297500.0  49.717999   \n",
       "2017-03-08  50.014000  49.063999  49.400002  49.374001  18626000.0  49.374001   \n",
       "2017-03-09  49.731998  48.599998  49.526001  48.980000  19396500.0  48.980000   \n",
       "2017-03-10  49.299999  48.599998  49.242001  48.737999  15331500.0  48.737999   \n",
       "2017-03-13  49.369999  48.556000  48.964001  49.234001  15113000.0  49.234001   \n",
       "2017-03-14  51.624001  49.203999  49.222000  51.599998  37992000.0  51.599998   \n",
       "2017-03-15  52.200001  50.854000  51.400002  51.146000  26654000.0  51.146000   \n",
       "2017-03-16  53.150002  51.812000  52.480000  52.410000  35661000.0  52.410000   \n",
       "2017-03-17  53.066002  52.240002  52.799999  52.299999  32487500.0  52.299999   \n",
       "2017-03-20  52.910000  51.764000  52.119999  52.383999  18071500.0  52.383999   \n",
       "2017-03-21  52.959999  50.048000  52.566002  50.136002  34543000.0  50.136002   \n",
       "2017-03-22  51.014000  50.102001  50.312000  51.001999  20296500.0  51.001999   \n",
       "2017-03-23  51.534000  50.660000  51.077999  50.956001  16601000.0  50.956001   \n",
       "2017-03-24  52.778000  51.001999  51.139999  52.632000  28236500.0  52.632000   \n",
       "2017-03-27  54.113998  51.950001  52.119999  54.043999  31154000.0  54.043999   \n",
       "2017-03-28  56.136002  55.000000  55.403999  55.490002  39938000.0  55.490002   \n",
       "2017-03-29  55.919998  55.108002  55.667999  55.476002  18381000.0  55.476002   \n",
       "2017-03-30  56.400002  55.442001  55.608002  55.584000  20742000.0  55.584000   \n",
       "2017-03-31  55.936001  55.264000  55.745998  55.660000  16473000.0  55.660000   \n",
       "2017-04-03  59.799999  56.916000  57.380001  59.703999  69443000.0  59.703999   \n",
       "2017-04-04  60.962002  58.905998  59.377998  60.740002  50673000.0  60.740002   \n",
       "2017-04-05  60.976002  58.840000  60.408001  59.000000  39404500.0  59.000000   \n",
       "2017-04-06  60.388000  58.820000  59.375999  59.740002  27603000.0  59.740002   \n",
       "2017-04-07  60.537998  59.430000  59.500000  60.507999  22898000.0  60.507999   \n",
       "2017-04-10  62.745998  61.742001  61.830002  62.478001  38322500.0  62.478001   \n",
       "\n",
       "            Open:30 days rolling  \n",
       "Date                              \n",
       "2017-02-27                   NaN  \n",
       "2017-02-28                   NaN  \n",
       "2017-03-01                   NaN  \n",
       "2017-03-02                   NaN  \n",
       "2017-03-03                   NaN  \n",
       "2017-03-06                   NaN  \n",
       "2017-03-07                   NaN  \n",
       "2017-03-08                   NaN  \n",
       "2017-03-09                   NaN  \n",
       "2017-03-10                   NaN  \n",
       "2017-03-13                   NaN  \n",
       "2017-03-14                   NaN  \n",
       "2017-03-15                   NaN  \n",
       "2017-03-16                   NaN  \n",
       "2017-03-17                   NaN  \n",
       "2017-03-20                   NaN  \n",
       "2017-03-21                   NaN  \n",
       "2017-03-22                   NaN  \n",
       "2017-03-23                   NaN  \n",
       "2017-03-24                   NaN  \n",
       "2017-03-27                   NaN  \n",
       "2017-03-28                   NaN  \n",
       "2017-03-29                   NaN  \n",
       "2017-03-30                   NaN  \n",
       "2017-03-31                   NaN  \n",
       "2017-04-03                   NaN  \n",
       "2017-04-04                   NaN  \n",
       "2017-04-05                   NaN  \n",
       "2017-04-06                   NaN  \n",
       "2017-04-07             52.673400  \n",
       "2017-04-10             53.079933  "
      ]
     },
     "execution_count": 104,
     "metadata": {},
     "output_type": "execute_result"
    }
   ],
   "source": [
    "df_tesla.head(31)"
   ]
  },
  {
   "cell_type": "code",
   "execution_count": 105,
   "id": "ee4f2520",
   "metadata": {},
   "outputs": [
    {
     "data": {
      "text/plain": [
       "<AxesSubplot:xlabel='Date'>"
      ]
     },
     "execution_count": 105,
     "metadata": {},
     "output_type": "execute_result"
    },
    {
     "data": {
      "image/png": "[encoded data removed]",
      "text/plain": [
       "<Figure size 864x360 with 1 Axes>"
      ]
     },
     "metadata": {
      "needs_background": "light"
     },
     "output_type": "display_data"
    }
   ],
   "source": [
    "df_tesla[['Open','Open:30 days rolling']].plot(figsize=(12,5))"
   ]
  },
  {
   "cell_type": "markdown",
   "id": "10afd792",
   "metadata": {},
   "source": [
    "##Assignment\n",
    "##news\n",
    "1. Read the Microsoft Data using Pandas Data reader\n",
    "2. Get the maximum price of the share from 2017 to 2022\n",
    "3. Which is the date of the highest price of the stock?\n",
    "4. Which is the date of the lowest price of the stock?"
   ]
  }
 ],
 "metadata": {
  "kernelspec": {
   "display_name": "Python 3 (ipykernel)",
   "language": "python",
   "name": "python3"
  },
  "language_info": {
   "codemirror_mode": {
    "name": "ipython",
    "version": 3
   },
   "file_extension": ".py",
   "mimetype": "text/x-python",
   "name": "python",
   "nbconvert_exporter": "python",
   "pygments_lexer": "ipython3",
   "version": "3.8.0"
  }
 },
 "nbformat": 4,
 "nbformat_minor": 5
}
